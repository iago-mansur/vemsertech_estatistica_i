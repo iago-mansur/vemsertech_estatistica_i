{
 "cells": [
  {
   "cell_type": "markdown",
   "id": "0e135ac3",
   "metadata": {},
   "source": [
    "## Distribuição Normal"
   ]
  },
  {
   "cell_type": "markdown",
   "id": "fd324064",
   "metadata": {},
   "source": [
    "Uma distribuição normal, também conhecida como distribuição gaussiana ou distribuição de sino, é um conceito fundamental na estatística e na teoria das probabilidades. Ela descreve a distribuição de dados contínuos que são simetricamente distribuídos em torno de sua média, formando uma curva em forma de sino quando plotados em um gráfico.\n",
    "\n",
    "A distribuição normal é caracterizada por duas propriedades principais:\n",
    "\n",
    "__Simetria__: A curva da distribuição normal é simétrica em relação à sua média. Isso significa que metade dos dados está à esquerda da média e metade está à direita, e a média, mediana e moda são todas iguais e estão localizadas no centro da distribuição.\n",
    "\n",
    "__Forma de sino__: A curva da distribuição normal é mais alta no centro (na média) e diminui gradualmente em direção às caudas, formando a característica forma de sino. A maior densidade de dados está próxima à média, e à medida que você se move para longe da média em ambas as direções, a densidade de dados diminui.\n",
    "\n"
   ]
  },
  {
   "cell_type": "markdown",
   "id": "5e28b318",
   "metadata": {},
   "source": [
    "#### Propriedades\n",
    "- Simétrica ao redor da média $\\mu$\n",
    "- $f(x) = \\dfrac{1}{\\sigma\\sqrt{2\\pi}} e^{-\\frac{1}{2}\\left(\\frac{x - \\mu}{\\sigma}\\right)^2}, \\forall x \\in (-\\infty, \\infty)$\n",
    "\n",
    "<br>\n",
    "\n",
    "- $F(x) = P(X \\leq x) = \\int_{-\\infty}^x f(x)dx = \\Phi(x)$\n",
    "- $E(X) = \\mu$\n",
    "- $Var(X) = \\sigma^2$\n",
    "- $Z = \\dfrac{X - \\mu}{\\sigma} \\sim N(0,1)$\n",
    "- $P(X \\leq \\mu) = P(X\\geq\\mu) = 50\\%$"
   ]
  },
  {
   "cell_type": "markdown",
   "id": "166972a5",
   "metadata": {},
   "source": [
    " Momentos estatísticos da distribuição normal\n",
    " \n",
    " - __mean__: Média da distribuição. Em uma distribuição normal padrão a média é igual a 0.\n",
    " - __var__: Variância. Para a distribuição normal padrão, a variância é igual a 1, pois o desvio padrão é 1.\n",
    " - __skew__: Medida de assimetria da distribuição normal. Para a distribuição normal padrão, skew é igual a zero, o que indica que a distribuição é simétrica.\n",
    " - __kurt__: Curtose é a medida de achatamento da distribuição. Para a distribuição normal padrão, kurt é igual a três. "
   ]
  },
  {
   "cell_type": "code",
   "execution_count": 2,
   "id": "482a4f2b",
   "metadata": {},
   "outputs": [],
   "source": [
    "import numpy as np\n",
    "import pandas as pd\n",
    "from scipy.stats import norm\n",
    "import matplotlib.pyplot as plt\n",
    "\n",
    "mu = 0\n",
    "std = 1\n",
    "rv = norm(loc=mu, scale=std)"
   ]
  },
  {
   "cell_type": "code",
   "execution_count": 3,
   "id": "50e1f4bb",
   "metadata": {},
   "outputs": [
    {
     "name": "stdout",
     "output_type": "stream",
     "text": [
      "mean:0.0, var:1.0, skewness:0.0, kurtosis:0.0\n"
     ]
    }
   ],
   "source": [
    "mean, var, skewness, kurtosis = rv.stats(moments='mvsk')\n",
    "print(f'mean:{mean}, var:{var}, skewness:{skewness}, kurtosis:{kurtosis}')"
   ]
  },
  {
   "cell_type": "markdown",
   "id": "f28d8436",
   "metadata": {},
   "source": [
    "Na distribuição normal, os dados são distribuídos de forma muito particular, tal que o **desvio padrão** determina a proporção de dados em cada faixa:\n",
    "\n",
    "<img src=\"https://miro.medium.com/max/24000/1*IdGgdrY_n_9_YfkaCh-dag.png\" width=500>\n",
    "\n",
    "<img src=\"https://miro.medium.com/max/24000/1*IZ2II2HYKeoMrdLU5jW6Dw.png\" width=500>"
   ]
  },
  {
   "cell_type": "code",
   "execution_count": 15,
   "id": "810a9eea",
   "metadata": {},
   "outputs": [
    {
     "data": {
      "text/plain": [
       "0.9973002039367398"
      ]
     },
     "execution_count": 15,
     "metadata": {},
     "output_type": "execute_result"
    }
   ],
   "source": [
    "from scipy.stats import norm\n",
    "\n",
    "media = 0\n",
    "desvio_padrao = 2\n",
    "\n",
    "rv = norm(media, desvio_padrao)\n",
    "rv.cdf(6) - rv.cdf(-6)\n"
   ]
  },
  {
   "cell_type": "markdown",
   "id": "175471ee",
   "metadata": {},
   "source": [
    "**Ex.:** Dado que $X \\sim N(10,100)$ (média=10, variância=100), calcule $P(10 < X < 20)$.\n",
    "\n",
    "Dado que $X \\sim N(10,100)$ então $ \\dfrac{X-10}{10} = Z \\sim N(0,1)$ e portanto\n",
    "\n",
    "$$P(10 < X < 20) = P(\\dfrac{10-10}{10} < \\dfrac{X-10}{10} < \\dfrac{20-10}{10}) =  P(0 < Z < 1)$$\n",
    "\n",
    "$$P(0 < Z < 1) = P_{acc}(1) - P_{acc}(0)$$ \n",
    "\n",
    "valor acumulado para z=0:\n",
    "$$P_{acc}(0) = 0.5 $$ \n",
    "valor acumulado para z=1:\n",
    "$$P_{acc}(1) = 0.8413 $$\n",
    "\n",
    "$$P(10 < X < 20) = P(0 < Z < 1) = P_{acc}(1) - P_{acc}(0) = 0.8413  - 0.5  = 0.3413$$"
   ]
  },
  {
   "cell_type": "code",
   "execution_count": 14,
   "id": "27e97bd4",
   "metadata": {},
   "outputs": [
    {
     "name": "stdout",
     "output_type": "stream",
     "text": [
      "0.5\n",
      "0.8413447460685429\n",
      "0.3413447460685429\n"
     ]
    }
   ],
   "source": [
    "rv = norm(10, 10)\n",
    "\n",
    "print(rv.cdf(10))\n",
    "print(rv.cdf(20))\n",
    "print(rv.cdf(20) - rv.cdf(10))"
   ]
  },
  {
   "cell_type": "markdown",
   "id": "dc2a21c4",
   "metadata": {},
   "source": [
    "## Z-Score\n",
    "\n",
    "O **z-score** de uma observação nada mais é que **o número de desvios padrões que a observação está com relação à média**:\n",
    "\n",
    "$$ z = \\frac{x - \\mu}{\\sigma} $$\n",
    "\n",
    "Como vimos acima, em uma distribuição normal, 99.73% das observações são esperadas de estar entre 3 desvios-padrão da média. Assim, obervações para além desta faixa são muito improváveis de ocorrer (0.27% de chance), de forma que podem ser consideradas outliers.\n",
    "\n",
    "Assim, é comum considerar outliers os pontos tais que $|z| > 3$ (embora seja comum também variar este z-score limite, para 2.5 o, 3.5, etc.)\n",
    "\n",
    "**OBS.: naturalmente, este método é altamente dependente da hipótese de que seus dados são normalmente distribuídos! Por isso, funciona apenas aproximadamente para outros casos. Mas é uma boa aproximação, em geral.**"
   ]
  },
  {
   "cell_type": "markdown",
   "id": "21666804",
   "metadata": {},
   "source": [
    "**ex.:**\n",
    "- z = 1.5 significa que estamos a um desvio padrão e meio distântes da média\n",
    "- z = 2.25 significa que estamos a dois desvio padrão e um quarto distântes da média"
   ]
  },
  {
   "cell_type": "code",
   "execution_count": 18,
   "id": "85643e1c",
   "metadata": {},
   "outputs": [
    {
     "data": {
      "image/png": "[encoded data removed]",
      "text/plain": [
       "<Figure size 800x600 with 1 Axes>"
      ]
     },
     "metadata": {},
     "output_type": "display_data"
    },
    {
     "name": "stdout",
     "output_type": "stream",
     "text": [
      "O valor Z para X = 120 na distribuição normal é 1.33\n"
     ]
    }
   ],
   "source": [
    "import numpy as np\n",
    "import matplotlib.pyplot as plt\n",
    "from scipy import stats\n",
    "\n",
    "# Defina a média e o desvio padrão da distribuição normal\n",
    "media = 100  # Média\n",
    "desvio_padrao = 15  # Desvio Padrão\n",
    "\n",
    "# Defina o valor do ponto de dados que você deseja padronizar\n",
    "X = 120\n",
    "\n",
    "# Calcule o valor Z\n",
    "valor_Z = (X - media) / desvio_padrao\n",
    "\n",
    "# Crie um intervalo de valores para o eixo x\n",
    "x = np.linspace(media - 4 * desvio_padrao, media + 4 * desvio_padrao, 1000)\n",
    "\n",
    "# Calcule a curva da distribuição normal\n",
    "pdf = stats.norm.pdf(x, media, desvio_padrao)\n",
    "\n",
    "# Crie o gráfico da distribuição normal\n",
    "plt.figure(figsize=(8, 6))\n",
    "plt.plot(x, pdf, label='Distribuição Normal')\n",
    "plt.fill_between(x, pdf, 0, where=(x >= media - 2 * desvio_padrao) & (x <= media + 2 * desvio_padrao), alpha=0.3)\n",
    "plt.axvline(x=X, color='r', linestyle='--', label=f'X = {X}')\n",
    "plt.axvline(x=media, color='g', linestyle='--', label=f'Média = {media}')\n",
    "plt.legend()\n",
    "plt.title('Distribuição Normal e Valor Z')\n",
    "plt.xlabel('Valores')\n",
    "plt.ylabel('Densidade de Probabilidade')\n",
    "\n",
    "# Exiba o gráfico\n",
    "plt.show()\n",
    "\n",
    "# Exiba o valor Z\n",
    "print(f\"O valor Z para X = {X} na distribuição normal é {valor_Z:.2f}\")\n"
   ]
  },
  {
   "cell_type": "markdown",
   "id": "e934d608",
   "metadata": {},
   "source": [
    "## Teorema do Limite Central\n",
    "\n",
    "### Apresentação visual "
   ]
  },
  {
   "cell_type": "code",
   "execution_count": 19,
   "id": "57d30d51",
   "metadata": {},
   "outputs": [],
   "source": [
    "import numpy as np\n",
    "import seaborn as sns\n",
    "import matplotlib.pyplot as plt"
   ]
  },
  {
   "cell_type": "code",
   "execution_count": 28,
   "id": "1bc5669b",
   "metadata": {},
   "outputs": [
    {
     "data": {
      "text/plain": [
       "array([[ 26.63173008,  14.30557949, -30.90800584, ...,  28.81394804,\n",
       "         -7.80435728,  12.84901249],\n",
       "       [ 30.26504452,  -2.84667176,  -2.78839923, ...,   7.44466769,\n",
       "         12.2449239 ,  34.20550136],\n",
       "       [-25.89817137,  13.51870065,  -1.27666816, ...,   3.6703968 ,\n",
       "         16.92015142,  27.27615768],\n",
       "       ...,\n",
       "       [-26.66316612, -19.80276906,  -4.52761202, ...,  15.61373039,\n",
       "        -35.16860479,   6.246108  ],\n",
       "       [ 40.94286708,  -4.47260052,  -9.79235126, ..., -49.05305359,\n",
       "          6.06731933,  -8.29299416],\n",
       "       [ 10.32750703,  -7.03991016,  16.52897405, ...,   8.42947167,\n",
       "         -4.91414425,  28.46689946]])"
      ]
     },
     "execution_count": 28,
     "metadata": {},
     "output_type": "execute_result"
    }
   ],
   "source": [
    "np.random.seed(10)\n",
    "\n",
    "N = 500_000\n",
    "rand = np.random.normal(scale=20, size=N)\n",
    "ensaios = rand.reshape((500, 1000))\n",
    "ensaios\n"
   ]
  },
  {
   "cell_type": "code",
   "execution_count": 29,
   "id": "18af6689",
   "metadata": {},
   "outputs": [
    {
     "data": {
      "text/plain": [
       "500"
      ]
     },
     "execution_count": 29,
     "metadata": {},
     "output_type": "execute_result"
    }
   ],
   "source": [
    "len(ensaios)"
   ]
  },
  {
   "cell_type": "code",
   "execution_count": 30,
   "id": "82e48582",
   "metadata": {},
   "outputs": [
    {
     "data": {
      "text/plain": [
       "<Axes: ylabel='Count'>"
      ]
     },
     "execution_count": 30,
     "metadata": {},
     "output_type": "execute_result"
    },
    {
     "data": {
      "image/png": "[encoded data removed]",
      "text/plain": [
       "<Figure size 640x480 with 1 Axes>"
      ]
     },
     "metadata": {},
     "output_type": "display_data"
    }
   ],
   "source": [
    "sns.histplot(ensaios.mean(axis=1), kde=True)"
   ]
  },
  {
   "cell_type": "code",
   "execution_count": 31,
   "id": "898ad99f",
   "metadata": {},
   "outputs": [
    {
     "data": {
      "text/plain": [
       "0.009424604221067508"
      ]
     },
     "execution_count": 31,
     "metadata": {},
     "output_type": "execute_result"
    }
   ],
   "source": [
    "ensaios.mean(axis=1).mean()"
   ]
  },
  {
   "cell_type": "code",
   "execution_count": 32,
   "id": "31fc9ac6",
   "metadata": {},
   "outputs": [
    {
     "data": {
      "text/plain": [
       "0.6395924159711499"
      ]
     },
     "execution_count": 32,
     "metadata": {},
     "output_type": "execute_result"
    }
   ],
   "source": [
    "ensaios.mean(axis=1).std()"
   ]
  },
  {
   "cell_type": "code",
   "execution_count": null,
   "id": "e6c76f34",
   "metadata": {},
   "outputs": [],
   "source": []
  },
  {
   "cell_type": "markdown",
   "id": "ba9fecff",
   "metadata": {},
   "source": [
    "### Diferença entre poucas repetições com muitas observações e muitas repetições com poucos dados"
   ]
  },
  {
   "cell_type": "code",
   "execution_count": 47,
   "id": "52df8643",
   "metadata": {},
   "outputs": [
    {
     "data": {
      "text/plain": [
       "<matplotlib.legend.Legend at 0x2bfea269f30>"
      ]
     },
     "execution_count": 47,
     "metadata": {},
     "output_type": "execute_result"
    },
    {
     "data": {
      "image/png": "[encoded data removed]",
      "text/plain": [
       "<Figure size 640x480 with 1 Axes>"
      ]
     },
     "metadata": {},
     "output_type": "display_data"
    }
   ],
   "source": [
    "lista_n = [10, 100, 1000, 10000]\n",
    "\n",
    "for n in lista_n:\n",
    "    sns.kdeplot(rand.reshape((int(N/n), n)).mean(axis=1), label='n='+str(N/n))\n",
    "plt.legend(loc='best')    "
   ]
  },
  {
   "cell_type": "markdown",
   "id": "07e886d4",
   "metadata": {},
   "source": [
    "## Apresentação Teórica\n",
    "\n",
    "Esse é um dos teoremas mais poderosos e fundamentais da estatística, porque ele é usado **como base para muitos outros resultados**. \n",
    "\n",
    "A ideia é que muitos dos resultados de inferência estatística são válidos assumindo como hipótese que os dados sob análise (**mais precisamente, os estimadores pontuais**) seguem uma distribuição normal. \n",
    "\n",
    "No entanto, há muitos casos de interesse em que a **distribuição populacional não é normal** -- e, na verdade, não temos como saber com segurança qual é a distribuição populacional, dado que temos apenas acesso às amostras!\n",
    "\n",
    "Assim, a priori, muitos dos resultados e métodos da inferência estatística seriam invalidados, dado que não podemos assegurar qual é a distribuição populacional dos dados que estamos analisando.\n",
    "\n",
    "E é neste contexto que o TLC mostra seu poder e importância, pois ele mostra que **estimadores pontuais de parâmetros populacionais serão normalmente distribuídos, INDEPENDENTE DA DISTRIBUIÇÃO POPULACIONAL!**\n",
    "\n",
    "Vamos enunciá-lo, e depois veremos alguns exemplos:\n",
    "\n",
    "> Seja uma **amostra aleatória** ($x_1, x_2, \\cdots, x_n$) de uma variável aleatória $X$ com **qualquer distribuição**, média $\\mu$ e desvio padrão $\\sigma$. Para $n$ suficientemente grande, a **distribuição das médias amostrais**, $\\overline{X}$, se **aproxima de uma distribuição normal** com média $\\mu_{\\overline{x}} = \\mu$ e erro padrão $SE_{\\overline{X}} = \\frac{\\sigma}{\\sqrt{n}}$. Isto é, $$\\overline{X} \\sim N \\left(\\mu, \\frac{\\sigma}{\\sqrt{n}} \\right)$$\n",
    "OBS.: quando estamos falando do **estimador amostral do desvio padrão**, costumamos usar o termo **erro padrão** (standard error), denotado $SE$.\n",
    "\n",
    "O que o TLC para as médias diz, essencialmente, é:\n",
    "\n",
    "> A distribuição de **médias das amostras** tiradas de **qualquer distribuição populacional** será **aproximadamente normal**, contanto que fizermos uma quantidade razoável de amostras com tamanho amostral.\n",
    "\n",
    "E isso é um resultado fantástico, pois nos permite a construção de uma **distribuição normal**, para a qual vale uma série de resultados e teoremas, a partir de \" **qualquer distribuição populacional** \"!"
   ]
  },
  {
   "cell_type": "markdown",
   "id": "48a224fc",
   "metadata": {},
   "source": [
    "### Atividade"
   ]
  },
  {
   "cell_type": "markdown",
   "id": "1b954ee0",
   "metadata": {},
   "source": [
    "__Questão 1__: Notas em um Exame\n",
    "\n",
    "Suponha que as notas de um exame de matemática em uma turma de 50 alunos seguem uma distribuição normal com uma média de 75 pontos e um desvio padrão de 10 pontos. Qual é a probabilidade de um aluno tirar uma nota superior a 85 pontos neste exame?"
   ]
  },
  {
   "cell_type": "code",
   "execution_count": null,
   "id": "2c90f97a",
   "metadata": {},
   "outputs": [],
   "source": []
  },
  {
   "cell_type": "markdown",
   "id": "49d3dcef",
   "metadata": {},
   "source": [
    "__Questão 2__: Tempo de Entrega de Produtos\n",
    "\n",
    "Uma empresa de entregas afirma que o tempo médio de entrega de seus produtos é de 3 dias úteis, com um desvio padrão de 0,5 dia útil. Seus clientes estão insatisfeitos e alegam que a empresa está demorando mais do que o prometido. Qual é a probabilidade de um produto ser entregue em menos de 2 dias úteis?"
   ]
  },
  {
   "cell_type": "code",
   "execution_count": null,
   "id": "76a395d1",
   "metadata": {},
   "outputs": [],
   "source": []
  },
  {
   "cell_type": "markdown",
   "id": "3a46644c",
   "metadata": {},
   "source": [
    "__Questão 3__: Alturas de Adultos\n",
    "\n",
    "As alturas dos adultos em uma determinada população seguem uma distribuição normal com média de 170 cm e desvio padrão de 10 cm. Se uma pessoa for escolhida aleatoriamente dessa população, qual é a probabilidade de que sua altura esteja entre 160 cm e 180 cm?"
   ]
  },
  {
   "cell_type": "code",
   "execution_count": null,
   "id": "b1f64534",
   "metadata": {},
   "outputs": [],
   "source": []
  },
  {
   "cell_type": "markdown",
   "id": "5fd52d48",
   "metadata": {},
   "source": [
    "__Questão 4__: Tempo de Espera em uma Fila\n",
    "\n",
    "Em um supermercado, o tempo médio de espera em uma fila é de 5 minutos, com um desvio padrão de 2 minutos. Qual é a probabilidade de um cliente ter que esperar mais de 7 minutos na fila?"
   ]
  },
  {
   "cell_type": "code",
   "execution_count": null,
   "id": "c832339a",
   "metadata": {},
   "outputs": [],
   "source": []
  },
  {
   "cell_type": "markdown",
   "id": "2f548d88",
   "metadata": {},
   "source": [
    "__Questão 5__: Pontuações em um Teste Padronizado\n",
    "\n",
    "As pontuações em um teste padronizado seguem uma distribuição normal com média de 500 e desvio padrão de 100. Qual é a probabilidade de um aluno obter uma pontuação entre 450 e 600?"
   ]
  },
  {
   "cell_type": "code",
   "execution_count": null,
   "id": "c35f9a71",
   "metadata": {},
   "outputs": [],
   "source": []
  },
  {
   "cell_type": "markdown",
   "id": "e8a6d932",
   "metadata": {},
   "source": [
    "__Questão 6__: Produção de Peças Defeituosas\n",
    "\n",
    "Em uma fábrica, a produção de peças segue uma distribuição normal com uma média de 200 peças por dia e um desvio padrão de 20 peças por dia. Qual é a probabilidade de que a produção diária seja superior a 220 peças?"
   ]
  },
  {
   "cell_type": "code",
   "execution_count": null,
   "id": "97c4eb07",
   "metadata": {},
   "outputs": [],
   "source": []
  },
  {
   "cell_type": "markdown",
   "id": "064cf66b",
   "metadata": {},
   "source": [
    "__Questão 7__: Altura de Jogadores de Basquete\n",
    "\n",
    "As alturas dos jogadores de uma equipe de basquete adulto seguem uma distribuição normal com média de 195 cm e desvio padrão de 10 cm. Qual é a probabilidade de que um jogador escolhido aleatoriamente tenha menos de 185 cm de altura?"
   ]
  },
  {
   "cell_type": "code",
   "execution_count": null,
   "id": "7a9b9836",
   "metadata": {},
   "outputs": [],
   "source": []
  },
  {
   "cell_type": "markdown",
   "id": "f604dfc3",
   "metadata": {},
   "source": [
    "__Questão 8__: Vendas Diárias de um Produto\n",
    "\n",
    "As vendas diárias de um produto em uma loja seguem uma distribuição normal com média de 100 unidades por dia e desvio padrão de 15 unidades por dia. Qual é a probabilidade de que a loja venda menos de 90 unidades em um dia?"
   ]
  },
  {
   "cell_type": "code",
   "execution_count": null,
   "id": "6223fe52",
   "metadata": {},
   "outputs": [],
   "source": []
  },
  {
   "cell_type": "markdown",
   "id": "a4e18139",
   "metadata": {},
   "source": [
    "### E se não for normal? Testes de Hipótese"
   ]
  },
  {
   "cell_type": "markdown",
   "id": "ab65a244",
   "metadata": {},
   "source": [
    "Embora diversas variáveis na natureza apresentem um comportamento que se aproxima de uma distribuição normal, nem sempre temos dados suficientes para que a amostra apresente este comportamento. Em alguns casos, embora apresente visualmente uma distribuição que se assemelha a um \"`sino`\", a variável pode não se encaixar nas propriedade de uma distribuição normal. \n",
    "\n",
    "Nesses casos, como proceder?"
   ]
  },
  {
   "cell_type": "markdown",
   "id": "a1ff7506",
   "metadata": {},
   "source": [
    "### 1. Teste de hipótese"
   ]
  },
  {
   "cell_type": "markdown",
   "id": "9c74a76d",
   "metadata": {},
   "source": [
    "O primeiro passo é certificar-se se a distribuição da variável é ou não normal. Para isso realizamos testes de hipótese como o teste __`Shapiro-Wilk`__."
   ]
  },
  {
   "cell_type": "markdown",
   "id": "bfcf6a05",
   "metadata": {},
   "source": [
    "Um teste de hipótese é um procedimento estatístico usado para tomar decisões sobre uma afirmação ou hipótese a respeito de uma população com base em informações de uma amostra dos dados. "
   ]
  },
  {
   "cell_type": "code",
   "execution_count": null,
   "id": "cff613e0",
   "metadata": {},
   "outputs": [],
   "source": []
  },
  {
   "cell_type": "markdown",
   "id": "3e778b45",
   "metadata": {},
   "source": [
    "( __Observação__ )  ⚠️ : Lembre-se de que o teste de Shapiro-Wilk é sensível a amostras de tamanho pequeno, portanto, para amostras grandes, ele pode detectar desvios mínimos da normalidade. É importante interpretar os resultados com cautela e considerar o contexto da análise."
   ]
  },
  {
   "cell_type": "markdown",
   "id": "4c7a3f90",
   "metadata": {},
   "source": [
    "### 2. Transformação nos dados"
   ]
  },
  {
   "cell_type": "code",
   "execution_count": null,
   "id": "53c42deb",
   "metadata": {},
   "outputs": [],
   "source": []
  },
  {
   "cell_type": "markdown",
   "id": "d2f68657",
   "metadata": {},
   "source": [
    "### 3. Testes não paramétricos"
   ]
  },
  {
   "cell_type": "markdown",
   "id": "7fcd7a3a",
   "metadata": {},
   "source": [
    "Testes paramétricos e testes não paramétricos são duas categorias de testes estatísticos usados para fazer inferências sobre populações com base em dados amostrais. A principal diferença entre eles está na suposição sobre a distribuição subjacente dos dados.\n",
    "\n",
    "__Testes Paramétricos__:\n",
    "\n",
    "Testes paramétricos fazem suposições específicas sobre os parâmetros (características) da distribuição subjacente dos dados, como a média e o desvio padrão. As suposições comuns incluem:\n",
    "\n",
    "1. Os dados seguem uma distribuição normal (ou aproximadamente normal).\n",
    "2. Os dados têm homogeneidade de variância, ou seja, o desvio padrão é constante em todas as amostras.\n",
    "3. Os dados são intervalares ou de razão, ou seja, têm uma escala numérica significativa.\n",
    "\n",
    "Exemplos de testes paramétricos incluem o teste t de Student, a análise de variância (ANOVA), o teste de regressão linear e muitos outros. Esses testes são poderosos quando as suposições são atendidas, mas podem não ser apropriados quando as suposições não são cumpridas.\n",
    "\n",
    "__Testes Não Paramétricos__:\n",
    "\n",
    "Testes não paramétricos, por outro lado, são projetados para serem usados quando as suposições sobre a distribuição dos dados não são atendidas ou quando os dados não atendem aos critérios dos testes paramétricos. Eles não fazem suposições sobre a forma da distribuição subjacente e são baseados em ordem e classificação dos dados.\n",
    "\n",
    "Alguns exemplos de testes não paramétricos incluem o teste de Mann-Whitney U (uma alternativa não paramétrica ao teste t de Student), o teste de Wilcoxon (um teste não paramétrico para amostras pareadas), o teste de Kruskal-Wallis (uma alternativa não paramétrica à ANOVA) e o teste qui-quadrado (um teste não paramétrico para associação entre variáveis categóricas).\n",
    "\n",
    "Os testes não paramétricos são mais robustos em relação às suposições de distribuição, mas podem ter menos poder estatístico do que os testes paramétricos quando as suposições paramétricas são atendidas. A escolha entre testes paramétricos e não paramétricos depende das características dos dados e das suposições que podem ser razoavelmente feitas. Em geral, se os dados atendem às suposições paramétricas, os testes paramétricos são preferíveis devido à sua maior sensibilidade. Caso contrário, os testes não paramétricos podem ser uma escolha mais apropriada.\n",
    "\n",
    "\n",
    "\n",
    "\n"
   ]
  },
  {
   "cell_type": "code",
   "execution_count": null,
   "id": "ef8d066e",
   "metadata": {},
   "outputs": [],
   "source": []
  },
  {
   "cell_type": "code",
   "execution_count": null,
   "id": "3a2247e2",
   "metadata": {},
   "outputs": [],
   "source": []
  },
  {
   "cell_type": "code",
   "execution_count": null,
   "id": "84d51d18",
   "metadata": {},
   "outputs": [],
   "source": []
  },
  {
   "cell_type": "code",
   "execution_count": null,
   "id": "701e4266",
   "metadata": {},
   "outputs": [],
   "source": []
  },
  {
   "cell_type": "code",
   "execution_count": null,
   "id": "5b20c4f2",
   "metadata": {},
   "outputs": [],
   "source": []
  },
  {
   "cell_type": "code",
   "execution_count": null,
   "id": "d1a67d97",
   "metadata": {},
   "outputs": [],
   "source": []
  }
 ],
 "metadata": {
  "kernelspec": {
   "display_name": "Python 3 (ipykernel)",
   "language": "python",
   "name": "python3"
  },
  "language_info": {
   "codemirror_mode": {
    "name": "ipython",
    "version": 3
   },
   "file_extension": ".py",
   "mimetype": "text/x-python",
   "name": "python",
   "nbconvert_exporter": "python",
   "pygments_lexer": "ipython3",
   "version": "3.10.11"
  }
 },
 "nbformat": 4,
 "nbformat_minor": 5
}
