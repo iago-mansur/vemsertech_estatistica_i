{
 "cells": [
  {
   "cell_type": "markdown",
   "id": "22b32894",
   "metadata": {},
   "source": [
    "1) Em uma caixa há 7 bolas brancas, 4 pretas e 5 vermelhas. Retira-se 6 bolas com reposição. Calcule a probabilidade de que:\n",
    "\n",
    " - A) saiam 4 bolas vermelhas:\n",
    " "
   ]
  },
  {
   "cell_type": "markdown",
   "id": "08f2d4be",
   "metadata": {},
   "source": [
    " - B) pelo menos 3 bolas brancas:\n",
    " "
   ]
  },
  {
   "cell_type": "markdown",
   "id": "c779b48f",
   "metadata": {},
   "source": [
    " - C) 1 ou 2 bolas pretas."
   ]
  },
  {
   "cell_type": "markdown",
   "id": "dff48946",
   "metadata": {},
   "source": [
    "2) Em um livro de 800 páginas há 800 erros de impressão. Qual a probabilidade de que uma página contenha pelo menos 3 erros?"
   ]
  },
  {
   "cell_type": "markdown",
   "id": "7721ee7a",
   "metadata": {},
   "source": [
    "\n",
    "3) Numa criação de coelhos, 45% são machos. Qual a probabilidade de nascerem pelo menos 5 coelhos machos num dia em que nasceram 15 coelhos?"
   ]
  },
  {
   "cell_type": "markdown",
   "id": "7eb6f407",
   "metadata": {},
   "source": [
    "Numa estrada há 2 acidentes para cada 100 km. Qual a probabilidade de que em:\n",
    "\n",
    " - A) 250 km pelo menos 3 acidentes?"
   ]
  },
  {
   "cell_type": "markdown",
   "id": "70477632",
   "metadata": {},
   "source": [
    " - B) 300 km ocorram 5 acidentes?"
   ]
  },
  {
   "cell_type": "code",
   "execution_count": null,
   "id": "b27f51d5",
   "metadata": {},
   "outputs": [],
   "source": []
  }
 ],
 "metadata": {
  "kernelspec": {
   "display_name": "Python 3 (ipykernel)",
   "language": "python",
   "name": "python3"
  },
  "language_info": {
   "codemirror_mode": {
    "name": "ipython",
    "version": 3
   },
   "file_extension": ".py",
   "mimetype": "text/x-python",
   "name": "python",
   "nbconvert_exporter": "python",
   "pygments_lexer": "ipython3",
   "version": "3.10.11"
  }
 },
 "nbformat": 4,
 "nbformat_minor": 5
}
