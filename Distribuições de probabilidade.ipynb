{
 "cells": [
  {
   "cell_type": "markdown",
   "id": "6f323376",
   "metadata": {},
   "source": [
    "# Distribuições de Probabilidade\n",
    "\n",
    "## 1. Introdução\n",
    "\n",
    "Neste tópico, serão abordados alguns conceitos primordiais como variável aleatória e seus tipos, definição de alguns tipos de distribuições e suas respectivas aplicações em casos onde deve-se levantar as probabilidades de eventos descritos por estas funções.\n",
    "\n",
    "<br>\n",
    "<hr>\n",
    "<br>"
   ]
  },
  {
   "cell_type": "markdown",
   "id": "f48a5b3c",
   "metadata": {},
   "source": [
    "## 2. Tipos de Variáveis Aleatórias\n",
    "\n",
    "Uma __variável aleatória__ é uma variável cujo valor depende de fatores não determinísticos, ou melhor dizendo __probabilísticos__. Detalhando um pouco mais sobre as variáveis aleatórias, existem dois tipos mais comuns de variáveis aleatórias que podem ser aplicadas, sendo elas:\n",
    "\n",
    "- __Discreta:__ são as variáveis aleatórias que a distribuição de probabilidade assume apenas valores enumeráveis;\n",
    "\n",
    "- __Contínua:__ são as variáveis aleatórias que a distribuição de probabilidade assume valores contínuos dentro de um intervalo pré-determinado.\n",
    "\n",
    "Para entender profundamente os conceitos de cada um dos tipos de variáveis aleatórias, deve-se definir as propriedades de distribuições de probabilidade para cada um dos casos.\n",
    "\n",
    "\n",
    "<img src='https://s3-sa-east-1.amazonaws.com/lcpi/e941b06a-08e6-4029-b7b8-f577757c3715.png' width=\"400\">\n",
    "\n",
    "<br>\n",
    "<hr>\n",
    "<br>"
   ]
  },
  {
   "cell_type": "code",
   "execution_count": null,
   "id": "f0587b6f",
   "metadata": {},
   "outputs": [],
   "source": []
  },
  {
   "cell_type": "markdown",
   "id": "407c2686",
   "metadata": {},
   "source": [
    "## 3. Distribuições de Probabilidade\n",
    "\n",
    "Uma **distribuição de probabilidade** é uma função que descreve o comportamento aleatório de um fenômeno dependente do acaso. A distribuição de probabilidade pode **modelar incertezas** e descrever fenômenos físicos, biológicos, econômicos, entre outros.\n",
    "\n",
    "A representação matemática para a distribuição de probabilidade é feita utilizando o que chama-se de __função de probabilidade__ (caso discreto) __função de densidade de probabilidade__ (caso contínuo). Para cada um dos tipos de variáveis aleatórias, tem-se uma definição de densidade de probabilidade, conforme descritos a seguir:\n",
    "\n",
    "- __Discretas:__ Para o caso das variáveis aleatórias discretas a definição matemática para a função de probabilidade (também chamada de _função massa de probabilidade_), pode ser dada da seguinte forma: <img src=\"https://i.upmath.me/svg/%20F(X)%20%3D%20P(X%20%3D%20x)%20\" alt=\" F(X) = P(X = x) \" />\n",
    "\n",
    "Ou seja, para o caso discreto, a variável aleatória é uma função que assume um valor real para cada elemento do espaço amostral. Partindo das definições gerais para probabilidade, os resultados a seguir são sempre válidos:\n",
    "\n",
    "<br>\n",
    " \n",
    "<center><img src=\"https://i.upmath.me/svg/%200%20%5Cleq%20P(X%20%3D%20x)%20%5Cleq%201%20\" alt=\" 0 \\leq P(X = x) \\leq 1 \" /></center>\n",
    "\n",
    "<br><br>\n",
    "\n",
    "<center><img src=\"https://i.upmath.me/svg/%20P(X%20%3D%20x)%20%5Cgeq%200%20\" alt=\" P(X = x) \\geq 0 \" /></center>\n",
    "\n",
    "<br><br>\n",
    "\n",
    "<center><img src=\"https://i.upmath.me/svg/%20%5Csum_%7Bi%3D1%7D%5E%7B%5Cinfty%7D%20P(X%20%3D%20x_%7Bi%7D)%20%3D%201%20\" alt=\" \\sum_{i=1}^{\\infty} P(X = x_{i}) = 1 \" /></center>\n",
    "\n",
    "<br><br>\n",
    "\n",
    "\n",
    "<center><img src=\"https://i.upmath.me/svg/%20P(a%20%5Cleq%20X%20%5Cleq%20b)%20%3D%20%5Csum_%7Bx%20%3D%20a%7D%5E%7Bx%20%3D%20b%7D%20P(X%20%3D%20x)\" alt=\" P(a \\leq X \\leq b) = \\sum_{x = a}^{x = b} P(X = x)\" /></center>\n",
    "\n",
    "<br>\n",
    "\n",
    "\n",
    "- __Contínuas:__ Para o caso das variáveis aleatórias contínuas a definição matemática para a probabilidade, <img src=\"https://i.upmath.me/svg/P\" alt=\"P\" />, utilizando a função de densidade de probabilidade <img src=\"https://i.upmath.me/svg/p\" alt=\"p\" />, pode ser dada da seguinte forma: <img src=\"https://i.upmath.me/svg/%20P(X)%20%3D%20%5Cint%20p(x)%20%5C%2Cdx%20\" alt=\" P(X) = \\int p(x) \\,dx \" />\n",
    "\n",
    "Da mesma forma que para o caso discreto, define-se algumas relações conhecidas para o caso das variáveis aleatórias contínuas:\n",
    "\n",
    "<center><img src=\"https://i.upmath.me/svg/%20p(x)%20%5Cgeq%200%2C%20%5Cforall%20x%20%5Cin%20%5Cmathbb%7BR%7D\" alt=\" p(x) \\geq 0, \\forall x \\in \\mathbb{R}\" /></center>\n",
    "\n",
    "<br><br>\n",
    "\n",
    "<center><img src=\"https://i.upmath.me/svg/%20%5Cint_%7B-%5Cinfty%7D%5E%7B%5Cinfty%7D%20p(x)%20%5C%2Cdx%20%3D%201%20\" alt=\" \\int_{-\\infty}^{\\infty} p(x) \\,dx = 1 \" /></center>\n",
    "\n",
    "<br><br>\n",
    "\n",
    "<center><img src=\"https://i.upmath.me/svg/%20P(a%20%5Cleq%20X%20%5Cleq%20b)%20%3D%20%5Cint_%7Ba%7D%5E%7Bb%7D%20p(x)%20%5C%2Cdx\" alt=\" P(a \\leq X \\leq b) = \\int_{a}^{b} p(x) \\,dx\" /></center>\n",
    "\n",
    "<br>\n",
    "\n",
    "Uma outra forma de interpretarmos a probabilidade de uma dada distribuição entre o intervalo <img src=\"https://i.upmath.me/svg/a\" alt=\"a\" /> e <img src=\"https://i.upmath.me/svg/b\" alt=\"b\" />, seria como a área abaixo ao gráfico da função de densidade de probabilidade:\n",
    "\n",
    "<img src=\"https://s3-sa-east-1.amazonaws.com/lcpi/6f2021b5-e5d5-48a9-bb17-7aaea4721dc2.png\" width=400>\n",
    "\n",
    "Fonte : [Thomas Haslwanter](https://work.thaslwanter.at/Stats/html/_images/PDF.png)\n",
    "\n",
    "<br>\n",
    "<hr>\n",
    "<br>"
   ]
  },
  {
   "cell_type": "markdown",
   "id": "69e43232",
   "metadata": {},
   "source": [
    "### 3.1. Valor Esperado (Esperança) e Variância\n",
    "\n",
    "Assim como no caso da Estatística Descritiva, no casos de modelos probabilísticos também existem parâmetros de posição e variabilidade utilizados para caracterizar uma distribuição de probabilidade:\n",
    "\n",
    "- __Valor Esperado (Esperança):__ O valor esperado seria o produto da variável aleatória <img src=\"https://i.upmath.me/svg/x\" alt=\"x\" /> e sua respectiva probabilidade, funcionando como se fosse uma média ponderada para as probabilidades. O cálculo do valor esperado é definido da seguinte forma:\n",
    "\n",
    "__Caso Discreto:__  <img src=\"https://i.upmath.me/svg/%20E%5BX%5D%20%3D%20%5Csum_%7Bi%7D%5E%7Bn%7D%20x_%7Bi%7DP(X%20%3D%20x_%7Bi%7D)%20\" alt=\" E[X] = \\sum_{i}^{n} x_{i}P(X = x_{i}) \" />\n",
    "\n",
    "\n",
    "__Caso Contínuo:__  <img src=\"https://i.upmath.me/svg/%20E%5BX%5D%20%3D%20%5Cint_%7B-%5Cinfty%7D%5E%7B%5Cinfty%7D%20xp(x)%20dx%20\" alt=\" E[X] = \\int_{-\\infty}^{\\infty} xp(x) dx \" />\n",
    "\n",
    "<br>\n",
    "\n",
    "- __Variância:__ A variância é o valor que mede a variabilidade, ou seja o quão dispersas estão as probabilidades em relação ao valor esperado. A variância é definida da seguinte forma:\n",
    "\n",
    "<br>\n",
    "\n",
    "<img align=\"center\" src=\"https://i.upmath.me/svg/%20V%5BX%5D%20%3D%20%5Csigma%5E%7B2%7D%20%3D%20E%5B(X%20-%20E%5BX%5D)%5E2%5D%20%3D%20E%5BX%5E2%5D%20-%20E%5BX%5D%5E2\" alt=\" V[X] = \\sigma^{2} = E[(X - E[X])^2] = E[X^2] - E[X]^2\" />\n",
    "\n",
    "<br>\n",
    "\n",
    "Onde, <img src=\"https://i.upmath.me/svg/%20E%5BX%5E2%5D%20%3D%20%5Csum_%7Bi%7D%5E%7Bn%7D%20x_%7Bi%7D%5E2P(X%20%3D%20x_%7Bi%7D)\" alt=\" E[X^2] = \\sum_{i}^{n} x_{i}^2P(X = x_{i})\" /> e analogamente para o caso contínuo <img src=\"https://i.upmath.me/svg/%20E%5BX%5E2%5D%20%3D%20%5Cint_%7B-%5Cinfty%7D%5E%7B%5Cinfty%7D%20x%5E2p(x)%20dx\" alt=\" E[X^2] = \\int_{-\\infty}^{\\infty} x^2p(x) dx\" />.\n",
    "\n",
    "<br>\n",
    "\n",
    "__Exemplo de aplicação - Caso Discreto__: Seja a variável aleatória X com distribuição abaixo, calcule <img src=\"https://i.upmath.me/svg/E%5BX%5D\" alt=\"E[X]\" /> e <img src=\"https://i.upmath.me/svg/V%5BX%5D\" alt=\"V[X]\" />:\n",
    " \n",
    "- P(X = 1) = 0.3\n",
    "- P(X = 2) = 0.4\n",
    "- P(X = 3) = 0.2 \n",
    "- P(X = 4) = 0.1\n",
    "\n",
    "<br>\n",
    "\n",
    "No trecho de código abaixo exemplifica uma forma de ser implementado a resolução do exercício acima usando o _Python_:\n",
    "\n",
    "<br>\n",
    "\n",
    "````python\n",
    "import numpy as np\n",
    "\n",
    "# Vetor de eventos\n",
    "X = [1, 2, 3, 4, 5, 6]\n",
    "\n",
    "# Vetor de probabilidades\n",
    "P = [0.1666, 0.1666, 0.1666, 0.1666, 0.1666, 0.1666]\n",
    "\n",
    "# Cálculo do Valor esperado\n",
    "esp = np.dot(X, P)\n",
    "\n",
    "# Mostra o valor esperado\n",
    "print(\"Valor esperado: \", np.round(esp, 2))\n",
    "\n",
    "# Cálculo da variância\n",
    "var = np.round(np.dot(np.power(X, 2), P) - np.power(esp, 2), 2)\n",
    "\n",
    "# Mostra a variância\n",
    "print(\"Variância:      \", var)\n",
    "````\n",
    "<br><br>\n",
    "\n",
    "__Exemplo de Aplicação - Caso Contínuo:__ A variável X tem função de densidade de probabilidade dada por:\n",
    "\n",
    "- <img src=\"https://i.upmath.me/svg/f(x)%20%3D%20%5Cfrac%7Bx%5E2%7D%7B3%7D\" alt=\"f(x) = \\frac{x^2}{3}\" />, se <img src=\"https://i.upmath.me/svg/%20-1%20%5Cleq%20x%20%5Cleq%202\" alt=\" -1 \\leq x \\leq 2\" />, caso contrário seria 0.\n",
    "\n",
    "<br>\n",
    "\n",
    "Para o caso contínuo, precisa-se realizar o cálculo de uma integral, onde será utilizado uma função própria da biblioteca _SciPy_:\n",
    "\n",
    "<br>\n",
    "\n",
    "````python\n",
    "# Carrega a função quad para aproximar o valor da integral\n",
    "from scipy.integrate import quad\n",
    "````\n",
    "\n",
    "A função _quad_ irá aproximar o valor da integral ao valor calculado teórico, com uma margem de erro bem pequena. A implementação da resolução em código _Python_ encontra-se a seguir:\n",
    "\n",
    "````python\n",
    "# Função para a equação do valor esperado\n",
    "def funcao_vlr_esperado(x):\n",
    "    return x*(x*x)/3\n",
    "\n",
    "# Cálculo da integral e o erro a partir da função anterior\n",
    "esp, erro1 = quad(funcao_vlr_esperado, -1, 2)\n",
    "\n",
    "# Print do valor esperado\n",
    "print(\"Valor Esperado: \", esp)\n",
    "print(\"Erro da Integral: \", erro1)\n",
    "\n",
    "# Função para a equação do valor esperado x^2 a partir da função anterior\n",
    "def funcao_variancia(x):\n",
    "    return (x*x)*(x*x)/3\n",
    "\n",
    "# Integral de x^2\n",
    "esp_x2, erro2 = quad(funcao_variancia, -1, 2)\n",
    "\n",
    "# Cálculo da variância\n",
    "var = esp_x2 - esp*esp\n",
    "\n",
    "# Print da variância\n",
    "print(\"Variância:      \", var)\n",
    "print(\"Erro da Integral: \", erro2)\n",
    "````\n",
    "\n",
    "<br>\n",
    "<hr>\n",
    "<br>"
   ]
  },
  {
   "cell_type": "code",
   "execution_count": null,
   "id": "48c5cac4",
   "metadata": {},
   "outputs": [],
   "source": []
  },
  {
   "cell_type": "markdown",
   "id": "08d3aef6",
   "metadata": {},
   "source": [
    "## 4. Principais Distribuições\n",
    "\n",
    "Existem algumas distribuições largamente utilizadas para o levantamento de probabilidade de eventos, sendo as principais delas descritas nos tópicos a seguir.\n",
    "\n",
    "<br><br>\n",
    "\n",
    "### 4.1 Distribuição de Bernoulli\n",
    "\n",
    "A distribuição de Bernoulli  é uma distribuição discreta para um espaço amostral \"(0, 1)\", baseando a probabilidade em __sucessos__ e __falhas__, onde a probabilidade de sucesso de um evento (\"k = 1\") é igual a \"p\" e a probabilidade de falha (\"k = 0\") seria o valor complementar \"1 - p\". A função que descreve a distribuição de Bernoulli pode ser definida como:\n",
    "\n",
    "<br>\n",
    "\n",
    "<img align=\"center\" src=\"https://i.upmath.me/svg/%20P(X%20%3D%20k)%20%3D%20p%5E%7Bk%7D(1-p)%5E%7B(1-k)%7D%20\" alt=\" P(X = k) = p^{k}(1-p)^{(1-k)} \" />\n",
    "\n",
    "<br>\n",
    "Os valores para o valor esperado e a variância para a distribuição de Bernoulli são respectivamente:\n",
    "\n",
    "- __Valor Esperado:__ <img src=\"https://i.upmath.me/svg/%20E%5BX%5D%20%3D%20p%20\" alt=\" E[X] = p \" />;\n",
    "\n",
    "- __Variância:__ <img src=\"https://i.upmath.me/svg/%20V%5BX%5D%20%3D%20p(1-p)\" alt=\" V[X] = p(1-p)\" />.\n",
    "\n",
    "<br>\n",
    "\n",
    "Mas no caso da distribuição de Bernoulli, trata-se apenas para um evento isolado, como por exemplo o lançamento de uma moeda. Quando o problema envolve eventos __com repetições__, utiliza-se o caso geral da distribuição de Bernoulli que seria uma __Distribuição Binomial.__\n",
    "\n",
    "<br>\n",
    "<hr>\n",
    "<br>"
   ]
  },
  {
   "cell_type": "markdown",
   "id": "18d53d1f",
   "metadata": {},
   "source": [
    "### 4.2 Distribuição Binomial\n",
    "\n",
    "Seja a variável aleatória baseado em <img src=\"https://i.upmath.me/svg/n\" alt=\"n\" /> repetições de Bernoulli, temos que a definição da distribuição binomial é dada por:\n",
    "\n",
    "<img align=\"center\" src=\"https://i.upmath.me/svg/%20P(X%20%3D%20k)%20%3D%20%5Cbinom%7Bn%7D%7Bk%7Dp%5E%7Bk%7D(1-p)%5E%7B(n-k)%7D%20%3D%20%5Cfrac%7Bn!%7D%7Bk!(n%20-%20k)!%7Dp%5E%7Bk%7D(1-p)%5E%7B(n-k)%7D\" alt=\" P(X = k) = \\binom{n}{k}p^{k}(1-p)^{(n-k)} = \\frac{n!}{k!(n - k)!}p^{k}(1-p)^{(n-k)}\" />\n",
    "\n",
    "<br><br>\n",
    "Os valores para o valor esperado e a variância para a distribuição binomial são respectivamente:\n",
    "\n",
    "- __Valor Esperado:__ <img src=\"https://i.upmath.me/svg/%20E%5BX%5D%20%3D%20np%20\" alt=\" E[X] = np \" />;\n",
    "\n",
    "- __Variância:__ <img src=\"https://i.upmath.me/svg/%20V%5BX%5D%20%3D%20np(1-p)\" alt=\" V[X] = np(1-p)\" />.\n",
    "\n",
    "<br>"
   ]
  },
  {
   "cell_type": "code",
   "execution_count": null,
   "id": "b7138928",
   "metadata": {},
   "outputs": [],
   "source": []
  },
  {
   "cell_type": "markdown",
   "id": "d97ca090",
   "metadata": {},
   "source": [
    "__Exemplo de Aplicação__: Qual a probabilidade de um jogador ganhar na megasena com uma aposta simples de 6 números?"
   ]
  },
  {
   "cell_type": "code",
   "execution_count": null,
   "id": "0cd952db",
   "metadata": {},
   "outputs": [],
   "source": []
  },
  {
   "cell_type": "markdown",
   "id": "f22b80dc",
   "metadata": {},
   "source": [
    "__Exemplo de Aplicação__: Em uma caixa há 8 bolas brancas e 4 pretas. Retira-se 5 bolas com reposição. Calcule a probabilidade de que:\n",
    "\n",
    "__A)__ saiam duas bolas brancas:\n",
    "\n",
    "<br>"
   ]
  },
  {
   "cell_type": "code",
   "execution_count": null,
   "id": "a5986efc",
   "metadata": {},
   "outputs": [],
   "source": []
  },
  {
   "cell_type": "markdown",
   "id": "358fe1b0",
   "metadata": {},
   "source": [
    "    \n",
    "__B)__ saiam pelo menos 3 pretas:\n",
    "\n",
    "Para este exemplo, como é buscado a probabilidade de pelo menos 3 bolas pretas para 5 lançamentos, pode ocorrer também os eventos 4 e 5 bolas pretas. "
   ]
  },
  {
   "cell_type": "code",
   "execution_count": null,
   "id": "2bd393da",
   "metadata": {},
   "outputs": [],
   "source": []
  },
  {
   "cell_type": "markdown",
   "id": "37b1ff58",
   "metadata": {},
   "source": [
    "<br>\n",
    "<hr>\n",
    "<br>"
   ]
  },
  {
   "cell_type": "markdown",
   "id": "c505e5ed",
   "metadata": {},
   "source": [
    "### 4.3 Distribuição Poisson\n",
    "\n",
    "Uma variável aleatória tem distribuição de Poisson quando podemos descrever um evento em relação a uma taxa/contagem de ocorrência, normalmente chamada de <img src=\"https://i.upmath.me/svg/%20%5Cmu%20\" alt=\" \\mu \" />, sendo <img src=\"https://i.upmath.me/svg/%20%5Cmu%20%3E%200\" alt=\" \\mu &gt; 0\" />. Dessa forma a equação para a distribuição de Poisson será definida como:\n",
    "\n",
    "<img align=\"center\" src=\"https://i.upmath.me/svg/%20P(X%20%3D%20k)%20%3D%20%5Cfrac%7Be%5E%7B-%5Cmu%7D%5Cmu%5E%7Bk%7D%7D%7Bk!%7D%20\" alt=\" P(X = k) = \\frac{e^{-\\mu}\\mu^{k}}{k!} \" />\n",
    "\n",
    "<br>\n",
    "<hr>\n",
    "<br>"
   ]
  },
  {
   "cell_type": "code",
   "execution_count": null,
   "id": "72cb8fe7",
   "metadata": {},
   "outputs": [],
   "source": []
  },
  {
   "cell_type": "code",
   "execution_count": null,
   "id": "14877852",
   "metadata": {},
   "outputs": [],
   "source": []
  },
  {
   "cell_type": "markdown",
   "id": "f5096a9d",
   "metadata": {},
   "source": [
    "__Exemplo de Aplicação__: Em uma central telefônica chegam 300 ligações por hora. Sabendo que segue uma distribuição de Poisson, qual é a probabilidade de que:\n",
    "   \n",
    "__A)__ Em um minuto não ocorra ligações?\n"
   ]
  },
  {
   "cell_type": "code",
   "execution_count": null,
   "id": "79e14aee",
   "metadata": {},
   "outputs": [],
   "source": []
  },
  {
   "cell_type": "markdown",
   "id": "60470fe4",
   "metadata": {},
   "source": [
    "__B)__ Ocorra pelo menos 4 ligações?"
   ]
  },
  {
   "cell_type": "code",
   "execution_count": null,
   "id": "47ed2895",
   "metadata": {},
   "outputs": [],
   "source": []
  },
  {
   "cell_type": "code",
   "execution_count": null,
   "id": "6f15a92b",
   "metadata": {},
   "outputs": [],
   "source": []
  },
  {
   "cell_type": "markdown",
   "id": "e6374b35",
   "metadata": {},
   "source": [
    "### 4.4 Distribuição Exponencial\n",
    "\n",
    "Uma variável aleatória contínua tem uma distribuição exponencial quando queremos avaliar o tempo decorrido entre dois eventos consecutivos, diferente do Poisson que avalia de acordo com uma contagem de ocorrências em um espaço de tempo. A função densidade de probabilidade que descreve a distribuição exponencial pode ser descrita como:\n",
    "\n",
    "<img align=\"center\" src=\"https://i.upmath.me/svg/%20f(x)%20%3D%20%5Calpha%20e%5E%7B-%5Calpha%20x%7D%2C%20x%20%5Cgeq%200%20\" alt=\" f(x) = \\alpha e^{-\\alpha x}, x \\geq 0 \" />\n",
    "\n",
    "No caso para <img src=\"https://i.upmath.me/svg/x%20%3C%200\" alt=\"x &lt; 0\" />, a probabilidade de <img src=\"https://i.upmath.me/svg/f(x)%20%3D%200\" alt=\"f(x) = 0\" />\n",
    "\n",
    "<br>"
   ]
  },
  {
   "cell_type": "markdown",
   "id": "7c1945e1",
   "metadata": {},
   "source": [
    "__Exemplo de Aplicação__: O intervalo de tempo, em minutos, entre emissões consecutivas de uma fonte radioativa é uma variável aleatória contínua que segue uma distribuição exponencial com parâmetro <img src=\"https://i.upmath.me/svg/%5Calpha%20%3D%200.2\" alt=\"\\alpha = 0.2\" />. Qual a probabilidade de que ocorra uma emissão em um intervalo inferior a 2 minutos?\n",
    "<br>\n",
    "<hr>\n",
    "<br>"
   ]
  },
  {
   "cell_type": "code",
   "execution_count": null,
   "id": "a9e6fc6d",
   "metadata": {},
   "outputs": [],
   "source": []
  },
  {
   "cell_type": "code",
   "execution_count": null,
   "id": "6be3a25c",
   "metadata": {},
   "outputs": [],
   "source": []
  },
  {
   "cell_type": "markdown",
   "id": "4c7c3c14",
   "metadata": {},
   "source": [
    "### 4.5 Distribuição Uniforme\n",
    "\n",
    "A distribuição uniforme é uma distribuição bem simples e não possui parâmetros, a única diferença é que só vai haver probabilidade para um determinado evento \"x\", se \"x ∈ [a, b]\". Dessa forma a equação de densidade de probabilidade para a distribuição uniforme é dado por:\n",
    "\n",
    "<img align=\"center\" src=\"https://i.upmath.me/svg/%20f(x)%20%3D%20%5Cfrac%7B1%7D%7Bb%20-%20a%7D%2C%20a%20%5Cleq%20x%20%5Cleq%20b%20\" alt=\" f(x) = \\frac{1}{b - a}, a \\leq x \\leq b \" />\n",
    "\n",
    "E para o caso de <img src=\"https://i.upmath.me/svg/x%20%5Cnotin%20%5Ba%2C%20b%5D\" alt=\"x \\notin [a, b]\" />, a função de densidade será <img src=\"https://i.upmath.me/svg/f(x)%20%3D%200\" alt=\"f(x) = 0\" />\n",
    "\n",
    "<br>\n",
    "Os valores para o valor esperado e a variância para a distribuição uniforme serão respectivamente:\n",
    "\n",
    "- __Valor Esperado:__ <img src=\"https://i.upmath.me/svg/%20E%5BX%5D%20%3D%20%5Cfrac%7Ba%20%2B%20b%7D%7B2%7D%20\" alt=\" E[X] = \\frac{a + b}{2} \" />;\n",
    "\n",
    "- __Variância:__ <img src=\"https://i.upmath.me/svg/%20V%5BX%5D%20%3D%20%5Cfrac%7B(b%20-%20a)%5E2%7D%7B12%7D\" alt=\" V[X] = \\frac{(b - a)^2}{12}\" />.\n",
    "\n",
    "<br>\n",
    "<hr>\n",
    "<br>"
   ]
  },
  {
   "cell_type": "code",
   "execution_count": null,
   "id": "9fa7505b",
   "metadata": {},
   "outputs": [],
   "source": []
  },
  {
   "cell_type": "markdown",
   "id": "5701a20c",
   "metadata": {},
   "source": [
    "Suponha que a duração de chamadas telefônicas em minutos em uma determinada rede de telefonia móvel é modelada por uma variável aleatória contínua X com distribuição uniforme no intervalo [5, 15] minutos, ou seja, X ~ U(5, 15). Você recebeu uma amostra de 100 chamadas realizadas nesta rede. Calcule a probabilidade de que uma chamada selecionada aleatoriamente dure:\n",
    "\n",
    "    A) Menos de 10 minutos."
   ]
  },
  {
   "cell_type": "code",
   "execution_count": null,
   "id": "6cbcfdfd",
   "metadata": {},
   "outputs": [],
   "source": []
  },
  {
   "cell_type": "markdown",
   "id": "4cb3d48a",
   "metadata": {},
   "source": [
    "    B) Entre 8 e 12 minutos."
   ]
  },
  {
   "cell_type": "code",
   "execution_count": null,
   "id": "85c33179",
   "metadata": {},
   "outputs": [],
   "source": []
  },
  {
   "cell_type": "markdown",
   "id": "ee9a88c3",
   "metadata": {},
   "source": [
    "    C) Mais de 14 minutos."
   ]
  },
  {
   "cell_type": "code",
   "execution_count": null,
   "id": "0f77d3ff",
   "metadata": {},
   "outputs": [],
   "source": []
  },
  {
   "cell_type": "markdown",
   "id": "a8af11f2",
   "metadata": {},
   "source": [
    "    D) Exatamente 11 minutos."
   ]
  },
  {
   "cell_type": "code",
   "execution_count": null,
   "id": "ca79d729",
   "metadata": {},
   "outputs": [],
   "source": []
  },
  {
   "cell_type": "code",
   "execution_count": null,
   "id": "7a899f54",
   "metadata": {},
   "outputs": [],
   "source": []
  },
  {
   "cell_type": "code",
   "execution_count": null,
   "id": "734de32d",
   "metadata": {},
   "outputs": [],
   "source": []
  },
  {
   "cell_type": "code",
   "execution_count": null,
   "id": "df0fcb3c",
   "metadata": {},
   "outputs": [],
   "source": []
  },
  {
   "cell_type": "markdown",
   "id": "a09d76e4",
   "metadata": {},
   "source": [
    "### **Materiais Complementares**\n",
    "\n",
    "Documentação do [SciPy](https://docs.scipy.org/doc/);\n",
    "\n",
    "Artigo [_5 Probability distribution you should know as a data scientist_](https://medium.com/towards-data-science/5-probability-distribution-you-should-know-as-a-data-scientist-f8abc9522af0) escrito por Harsh Maheshwari;\n",
    "\n",
    "<br><br>\n",
    "\n",
    "### **Referências**\n",
    "\n",
    "Pedro A. Morettin, Wilton O. Bussab, Estatística Básica, 8ª edição\n",
    "\n",
    "Peter Bruce, Andrew Bruce & Peter Gedeck, Practical Statistics for Data Scientists, 50+ Essential Concepts Using R and Python, 2ª edition\n",
    "\n",
    "Ron Larson & Betsy Farber, Estatística Aplicada, 6ª edição.\n",
    "\n",
    "<br><br> "
   ]
  },
  {
   "cell_type": "code",
   "execution_count": null,
   "id": "61e9b1c7",
   "metadata": {},
   "outputs": [],
   "source": []
  }
 ],
 "metadata": {
  "kernelspec": {
   "display_name": "Python 3 (ipykernel)",
   "language": "python",
   "name": "python3"
  },
  "language_info": {
   "codemirror_mode": {
    "name": "ipython",
    "version": 3
   },
   "file_extension": ".py",
   "mimetype": "text/x-python",
   "name": "python",
   "nbconvert_exporter": "python",
   "pygments_lexer": "ipython3",
   "version": "3.10.11"
  }
 },
 "nbformat": 4,
 "nbformat_minor": 5
}
