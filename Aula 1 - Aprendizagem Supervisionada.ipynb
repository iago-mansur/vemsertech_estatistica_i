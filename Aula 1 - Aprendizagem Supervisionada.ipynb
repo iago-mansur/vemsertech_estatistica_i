{
 "cells": [
  {
   "cell_type": "markdown",
   "id": "f4b0c0e8",
   "metadata": {},
   "source": [
    "## Aprendizagem Supervisionada"
   ]
  },
  {
   "cell_type": "markdown",
   "id": "71bd58c6",
   "metadata": {},
   "source": [
    "#### Conceito\n",
    "\n",
    " > Tipo de `aprendizagem de máquina` formado por algoritmos que simulam aprendizado com dados previamente rotulados. De modo iterativo, cada amostra é apresentada ao algoritmo e o mesmo gera como saída um possível rótulo para a amostra. O rótulo predito é comparado com o rótulo real e caso o algoritmo erre, um ajuste é feito para que a saída predita se aproxime ao máximo da saída real.\n"
   ]
  },
  {
   "cell_type": "markdown",
   "id": "a2d95154",
   "metadata": {},
   "source": [
    "#### Rótulo:\n",
    "- **Discreto:** Classificação\n",
    "- **Contínuo:** Regressão"
   ]
  },
  {
   "cell_type": "markdown",
   "id": "5e5231ac",
   "metadata": {},
   "source": [
    "<img src=\"https://s3-sa-east-1.amazonaws.com/lcpi/df1dafe9-7c7e-4dec-a8fe-13cff93ab684.png\" width=400>"
   ]
  },
  {
   "cell_type": "markdown",
   "id": "ddb77679",
   "metadata": {},
   "source": [
    "#### Ex.: Temperatura de um ambiente\n",
    "\n",
    "<img src=\"https://s3-sa-east-1.amazonaws.com/lcpi/788cdc1b-20df-407a-82f3-776de685628e.jpg\" width=\"400\">    "
   ]
  },
  {
   "cell_type": "markdown",
   "id": "7f1228ae",
   "metadata": {},
   "source": [
    "### Features - Características dos dados\n",
    "\n",
    " - Desempenho → Métrica \n",
    " - Treinamento e teste → Experiência\n",
    "     - **Features**: Características do objeto alvo da análise\n",
    "     - **Target**: Classe ou valor do objeto\n",
    "\n",
    "<img src=\"https://s3-sa-east-1.amazonaws.com/lcpi/39eea9b9-6906-42e0-9ef1-e7aee4293aa3.jpg\" width=700>"
   ]
  },
  {
   "cell_type": "markdown",
   "id": "5df04f65",
   "metadata": {},
   "source": [
    "### Construção de um modelo de machine learning"
   ]
  },
  {
   "cell_type": "markdown",
   "id": "292d37fe",
   "metadata": {},
   "source": [
    "**Passo 1**: Formulação de hipótese\n",
    " - Disponibilidade dos dados\n",
    " - Padrão nos dados\n",
    " - Oportunidade de negócio\n",
    " - Viabilidade do modelo\n",
    " - EDA\n",
    "    "
   ]
  },
  {
   "cell_type": "markdown",
   "id": "0a1ffe5a",
   "metadata": {},
   "source": [
    "**Passo 02**: Construção do experimento\n",
    " - **Coleta de dados**\n",
    "  - Técnicas de amostragem \n",
    " - Pré-processamento dos dados\n",
    " - Definição de métricas\n",
    " - Seleção de modelo(s)\n",
    "     - Modelo paramétrico ou não paramétrico?\n",
    "     - Conjunto de parâmetros\n",
    "     - Conjunto de hiperparâmetros\n",
    "        "
   ]
  },
  {
   "cell_type": "markdown",
   "id": "e23a4265",
   "metadata": {},
   "source": [
    "**Passo 03**: Construção do modelo\n",
    " - Escolha de ferramentas\n",
    " - Ambiente de execução\n",
    " - Forma de monitoramento do treinamento\n"
   ]
  },
  {
   "cell_type": "markdown",
   "id": "5fb1df2c",
   "metadata": {},
   "source": [
    "**Passo 04**: Avaliação dos resultados\n",
    " - Teste\n",
    " - Comparativo\n",
    " - **Monitoramento**\n",
    "     - Métricas de monitoramento\n",
    "     - Drift"
   ]
  },
  {
   "cell_type": "markdown",
   "id": "1f9b4159",
   "metadata": {},
   "source": [
    "## Desenvolvimento de um modelo"
   ]
  },
  {
   "cell_type": "code",
   "execution_count": null,
   "id": "f41671a9",
   "metadata": {},
   "outputs": [],
   "source": []
  },
  {
   "cell_type": "markdown",
   "id": "319c3e6b",
   "metadata": {},
   "source": [
    "### 1. Regressão"
   ]
  },
  {
   "cell_type": "code",
   "execution_count": 23,
   "id": "024a43e3",
   "metadata": {},
   "outputs": [],
   "source": [
    "# Fazer previsões\n",
    "y_pred = model.predict(X_test)"
   ]
  },
  {
   "cell_type": "code",
   "execution_count": 22,
   "id": "830f2b3c",
   "metadata": {},
   "outputs": [
    {
     "data": {
      "text/html": [
       "<style>#sk-container-id-2 {color: black;background-color: white;}#sk-container-id-2 pre{padding: 0;}#sk-container-id-2 div.sk-toggleable {background-color: white;}#sk-container-id-2 label.sk-toggleable__label {cursor: pointer;display: block;width: 100%;margin-bottom: 0;padding: 0.3em;box-sizing: border-box;text-align: center;}#sk-container-id-2 label.sk-toggleable__label-arrow:before {content: \"▸\";float: left;margin-right: 0.25em;color: #696969;}#sk-container-id-2 label.sk-toggleable__label-arrow:hover:before {color: black;}#sk-container-id-2 div.sk-estimator:hover label.sk-toggleable__label-arrow:before {color: black;}#sk-container-id-2 div.sk-toggleable__content {max-height: 0;max-width: 0;overflow: hidden;text-align: left;background-color: #f0f8ff;}#sk-container-id-2 div.sk-toggleable__content pre {margin: 0.2em;color: black;border-radius: 0.25em;background-color: #f0f8ff;}#sk-container-id-2 input.sk-toggleable__control:checked~div.sk-toggleable__content {max-height: 200px;max-width: 100%;overflow: auto;}#sk-container-id-2 input.sk-toggleable__control:checked~label.sk-toggleable__label-arrow:before {content: \"▾\";}#sk-container-id-2 div.sk-estimator input.sk-toggleable__control:checked~label.sk-toggleable__label {background-color: #d4ebff;}#sk-container-id-2 div.sk-label input.sk-toggleable__control:checked~label.sk-toggleable__label {background-color: #d4ebff;}#sk-container-id-2 input.sk-hidden--visually {border: 0;clip: rect(1px 1px 1px 1px);clip: rect(1px, 1px, 1px, 1px);height: 1px;margin: -1px;overflow: hidden;padding: 0;position: absolute;width: 1px;}#sk-container-id-2 div.sk-estimator {font-family: monospace;background-color: #f0f8ff;border: 1px dotted black;border-radius: 0.25em;box-sizing: border-box;margin-bottom: 0.5em;}#sk-container-id-2 div.sk-estimator:hover {background-color: #d4ebff;}#sk-container-id-2 div.sk-parallel-item::after {content: \"\";width: 100%;border-bottom: 1px solid gray;flex-grow: 1;}#sk-container-id-2 div.sk-label:hover label.sk-toggleable__label {background-color: #d4ebff;}#sk-container-id-2 div.sk-serial::before {content: \"\";position: absolute;border-left: 1px solid gray;box-sizing: border-box;top: 0;bottom: 0;left: 50%;z-index: 0;}#sk-container-id-2 div.sk-serial {display: flex;flex-direction: column;align-items: center;background-color: white;padding-right: 0.2em;padding-left: 0.2em;position: relative;}#sk-container-id-2 div.sk-item {position: relative;z-index: 1;}#sk-container-id-2 div.sk-parallel {display: flex;align-items: stretch;justify-content: center;background-color: white;position: relative;}#sk-container-id-2 div.sk-item::before, #sk-container-id-2 div.sk-parallel-item::before {content: \"\";position: absolute;border-left: 1px solid gray;box-sizing: border-box;top: 0;bottom: 0;left: 50%;z-index: -1;}#sk-container-id-2 div.sk-parallel-item {display: flex;flex-direction: column;z-index: 1;position: relative;background-color: white;}#sk-container-id-2 div.sk-parallel-item:first-child::after {align-self: flex-end;width: 50%;}#sk-container-id-2 div.sk-parallel-item:last-child::after {align-self: flex-start;width: 50%;}#sk-container-id-2 div.sk-parallel-item:only-child::after {width: 0;}#sk-container-id-2 div.sk-dashed-wrapped {border: 1px dashed gray;margin: 0 0.4em 0.5em 0.4em;box-sizing: border-box;padding-bottom: 0.4em;background-color: white;}#sk-container-id-2 div.sk-label label {font-family: monospace;font-weight: bold;display: inline-block;line-height: 1.2em;}#sk-container-id-2 div.sk-label-container {text-align: center;}#sk-container-id-2 div.sk-container {/* jupyter's `normalize.less` sets `[hidden] { display: none; }` but bootstrap.min.css set `[hidden] { display: none !important; }` so we also need the `!important` here to be able to override the default hidden behavior on the sphinx rendered scikit-learn.org. See: https://github.com/scikit-learn/scikit-learn/issues/21755 */display: inline-block !important;position: relative;}#sk-container-id-2 div.sk-text-repr-fallback {display: none;}</style><div id=\"sk-container-id-2\" class=\"sk-top-container\"><div class=\"sk-text-repr-fallback\"><pre>LinearRegression()</pre><b>In a Jupyter environment, please rerun this cell to show the HTML representation or trust the notebook. <br />On GitHub, the HTML representation is unable to render, please try loading this page with nbviewer.org.</b></div><div class=\"sk-container\" hidden><div class=\"sk-item\"><div class=\"sk-estimator sk-toggleable\"><input class=\"sk-toggleable__control sk-hidden--visually\" id=\"sk-estimator-id-2\" type=\"checkbox\" checked><label for=\"sk-estimator-id-2\" class=\"sk-toggleable__label sk-toggleable__label-arrow\">LinearRegression</label><div class=\"sk-toggleable__content\"><pre>LinearRegression()</pre></div></div></div></div></div>"
      ],
      "text/plain": [
       "LinearRegression()"
      ]
     },
     "execution_count": 22,
     "metadata": {},
     "output_type": "execute_result"
    }
   ],
   "source": [
    "# Criar e treinar o modelo de regressão linear\n",
    "model = LinearRegression()\n",
    "model.fit(X_train, y_train)"
   ]
  },
  {
   "cell_type": "markdown",
   "id": "ecfe67c2",
   "metadata": {},
   "source": [
    "<img src = \"https://s3-sa-east-1.amazonaws.com/lcpi/a272534b-ac56-4c2e-be0b-3ea95ada54dc.gif\">"
   ]
  },
  {
   "cell_type": "markdown",
   "id": "b6bbcc82",
   "metadata": {},
   "source": [
    "#### Regressão Linear"
   ]
  },
  {
   "cell_type": "code",
   "execution_count": 19,
   "id": "bde4601c",
   "metadata": {},
   "outputs": [
    {
     "data": {
      "text/html": [
       "<div>\n",
       "<style scoped>\n",
       "    .dataframe tbody tr th:only-of-type {\n",
       "        vertical-align: middle;\n",
       "    }\n",
       "\n",
       "    .dataframe tbody tr th {\n",
       "        vertical-align: top;\n",
       "    }\n",
       "\n",
       "    .dataframe thead th {\n",
       "        text-align: right;\n",
       "    }\n",
       "</style>\n",
       "<table border=\"1\" class=\"dataframe\">\n",
       "  <thead>\n",
       "    <tr style=\"text-align: right;\">\n",
       "      <th></th>\n",
       "      <th>idade</th>\n",
       "      <th>custo</th>\n",
       "    </tr>\n",
       "  </thead>\n",
       "  <tbody>\n",
       "    <tr>\n",
       "      <th>0</th>\n",
       "      <td>18</td>\n",
       "      <td>871</td>\n",
       "    </tr>\n",
       "    <tr>\n",
       "      <th>1</th>\n",
       "      <td>23</td>\n",
       "      <td>1132</td>\n",
       "    </tr>\n",
       "    <tr>\n",
       "      <th>2</th>\n",
       "      <td>28</td>\n",
       "      <td>1242</td>\n",
       "    </tr>\n",
       "    <tr>\n",
       "      <th>3</th>\n",
       "      <td>33</td>\n",
       "      <td>1356</td>\n",
       "    </tr>\n",
       "    <tr>\n",
       "      <th>4</th>\n",
       "      <td>38</td>\n",
       "      <td>1488</td>\n",
       "    </tr>\n",
       "    <tr>\n",
       "      <th>5</th>\n",
       "      <td>43</td>\n",
       "      <td>1638</td>\n",
       "    </tr>\n",
       "    <tr>\n",
       "      <th>6</th>\n",
       "      <td>48</td>\n",
       "      <td>2130</td>\n",
       "    </tr>\n",
       "    <tr>\n",
       "      <th>7</th>\n",
       "      <td>53</td>\n",
       "      <td>2454</td>\n",
       "    </tr>\n",
       "    <tr>\n",
       "      <th>8</th>\n",
       "      <td>58</td>\n",
       "      <td>3066</td>\n",
       "    </tr>\n",
       "    <tr>\n",
       "      <th>9</th>\n",
       "      <td>63</td>\n",
       "      <td>4090</td>\n",
       "    </tr>\n",
       "  </tbody>\n",
       "</table>\n",
       "</div>"
      ],
      "text/plain": [
       "   idade  custo\n",
       "0     18    871\n",
       "1     23   1132\n",
       "2     28   1242\n",
       "3     33   1356\n",
       "4     38   1488\n",
       "5     43   1638\n",
       "6     48   2130\n",
       "7     53   2454\n",
       "8     58   3066\n",
       "9     63   4090"
      ]
     },
     "execution_count": 19,
     "metadata": {},
     "output_type": "execute_result"
    }
   ],
   "source": [
    "# Criar o dataframe\n",
    "data = {\n",
    "    'idade': [18, 23, 28, 33, 38, 43, 48, 53, 58, 63],\n",
    "    'custo': [871, 1132, 1242, 1356, 1488, 1638, 2130, 2454, 3066, 4090]\n",
    "}\n",
    "\n",
    "df = pd.DataFrame(data)\n",
    "df"
   ]
  },
  {
   "cell_type": "code",
   "execution_count": 20,
   "id": "3e0cc84f",
   "metadata": {},
   "outputs": [],
   "source": [
    "# Separar os dados de entrada (X) e saída (y)\n",
    "X = df[['idade']]\n",
    "y = df['custo']"
   ]
  },
  {
   "cell_type": "code",
   "execution_count": 21,
   "id": "41b1c306",
   "metadata": {},
   "outputs": [],
   "source": [
    "X_train, X_test, y_train, y_test = train_test_split(X, \n",
    "                                                    y, \n",
    "                                                    test_size=0.2, \n",
    "                                                    random_state=42)"
   ]
  },
  {
   "cell_type": "code",
   "execution_count": 24,
   "id": "cb06b088",
   "metadata": {},
   "outputs": [
    {
     "data": {
      "text/plain": [
       "190.375"
      ]
     },
     "execution_count": 24,
     "metadata": {},
     "output_type": "execute_result"
    }
   ],
   "source": [
    "mae = mean_absolute_error(y_pred, y_test)\n",
    "mae"
   ]
  },
  {
   "cell_type": "code",
   "execution_count": 18,
   "id": "38f39886",
   "metadata": {},
   "outputs": [],
   "source": [
    "import pandas as pd\n",
    "import matplotlib.pyplot as plt\n",
    "from sklearn.linear_model import LinearRegression\n",
    "from sklearn.metrics import mean_absolute_error"
   ]
  },
  {
   "cell_type": "code",
   "execution_count": 25,
   "id": "09b3482a",
   "metadata": {},
   "outputs": [
    {
     "data": {
      "image/png": "[encoded data removed]",
      "text/plain": [
       "<Figure size 640x480 with 1 Axes>"
      ]
     },
     "metadata": {},
     "output_type": "display_data"
    }
   ],
   "source": [
    "# Plotar os resultados\n",
    "plt.scatter(X_train, y_train, color='blue', label='Treino')\n",
    "plt.scatter(X_test, y_test, color='green', label='Teste')\n",
    "plt.plot(X_test, y_pred, color='red', linewidth=2, label='Regressão Linear')\n",
    "plt.xlabel('Idade')\n",
    "plt.ylabel('Custo')\n",
    "plt.legend()\n",
    "plt.show()"
   ]
  },
  {
   "cell_type": "code",
   "execution_count": null,
   "id": "e19db5ce",
   "metadata": {},
   "outputs": [],
   "source": []
  },
  {
   "cell_type": "code",
   "execution_count": null,
   "id": "839b19af",
   "metadata": {},
   "outputs": [],
   "source": []
  },
  {
   "cell_type": "markdown",
   "id": "8dc50b86",
   "metadata": {},
   "source": [
    "### 2. Classsificação"
   ]
  },
  {
   "cell_type": "code",
   "execution_count": 1,
   "id": "6be5f08f",
   "metadata": {},
   "outputs": [],
   "source": [
    "import pandas as pd"
   ]
  },
  {
   "cell_type": "markdown",
   "id": "bc6ad89f",
   "metadata": {},
   "source": [
    "<img src=\"https://s3-sa-east-1.amazonaws.com/lcpi/37621853-e789-4ccd-aff2-4f3078556cfb.jpg\" width=300>"
   ]
  },
  {
   "cell_type": "code",
   "execution_count": 2,
   "id": "d928f272",
   "metadata": {},
   "outputs": [],
   "source": [
    "# Carregar o dataset de câncer de mama\n",
    "data = load_breast_cancer()"
   ]
  },
  {
   "cell_type": "markdown",
   "id": "5686ec0c",
   "metadata": {},
   "source": [
    "#### Lista de features"
   ]
  },
  {
   "cell_type": "code",
   "execution_count": null,
   "id": "8fdc392a",
   "metadata": {},
   "outputs": [],
   "source": [
    "data.feature_names.tolist()"
   ]
  },
  {
   "cell_type": "markdown",
   "id": "7f0c6c50",
   "metadata": {},
   "source": [
    "#### Quantidade de features?"
   ]
  },
  {
   "cell_type": "code",
   "execution_count": null,
   "id": "9d90bd04",
   "metadata": {},
   "outputs": [],
   "source": [
    "len(data.feature_names.tolist())"
   ]
  },
  {
   "cell_type": "code",
   "execution_count": null,
   "id": "ea2f264b",
   "metadata": {},
   "outputs": [],
   "source": []
  },
  {
   "cell_type": "markdown",
   "id": "06686236",
   "metadata": {},
   "source": [
    "#### Diagnóstico"
   ]
  },
  {
   "cell_type": "code",
   "execution_count": null,
   "id": "827373b1",
   "metadata": {},
   "outputs": [],
   "source": []
  },
  {
   "cell_type": "code",
   "execution_count": null,
   "id": "34f3e4f0",
   "metadata": {},
   "outputs": [],
   "source": [
    "df_target = pd.DataFrame(data = data.target, columns = ['diagnosis'])\n",
    "df_target"
   ]
  },
  {
   "cell_type": "markdown",
   "id": "8b80f684",
   "metadata": {},
   "source": [
    "#### Dividir o dataset em conjunto de treinamento e teste"
   ]
  },
  {
   "cell_type": "code",
   "execution_count": null,
   "id": "fe91df46",
   "metadata": {},
   "outputs": [],
   "source": [
    "X_train, X_test, y_train, y_test = train_test_split(data.data, \n",
    "                                                    data.target, \n",
    "                                                    test_size=0.2, \n",
    "                                                    random_state=42)"
   ]
  },
  {
   "cell_type": "markdown",
   "id": "50a6e7db",
   "metadata": {},
   "source": [
    "#### Criar e treinar o modelo de regressão logística\n",
    "Intuição"
   ]
  },
  {
   "cell_type": "markdown",
   "id": "cc7a6633",
   "metadata": {},
   "source": [
    "<img src = \"https://s3-sa-east-1.amazonaws.com/lcpi/b92ec6a5-91b2-45f5-ad65-75978d6f54cc.png\" width=400>"
   ]
  },
  {
   "cell_type": "code",
   "execution_count": null,
   "id": "57695d30",
   "metadata": {},
   "outputs": [],
   "source": [
    "model = LogisticRegression(max_iter=1_000_000)\n",
    "model.fit(X_train, y_train)"
   ]
  },
  {
   "cell_type": "markdown",
   "id": "52b73e69",
   "metadata": {},
   "source": [
    "#### Testar o modelo"
   ]
  },
  {
   "cell_type": "code",
   "execution_count": null,
   "id": "61ff5e31",
   "metadata": {},
   "outputs": [],
   "source": [
    "y_pred = model.predict(X_test)"
   ]
  },
  {
   "cell_type": "markdown",
   "id": "18953003",
   "metadata": {},
   "source": [
    "#### Avaliar o modelo"
   ]
  },
  {
   "cell_type": "code",
   "execution_count": null,
   "id": "7f9cf29f",
   "metadata": {},
   "outputs": [],
   "source": [
    "from sklearn.metrics import confusion_matrix\n",
    "import matplotlib.pyplot as plt\n",
    "import seaborn as sns"
   ]
  },
  {
   "cell_type": "code",
   "execution_count": null,
   "id": "aa95d48c",
   "metadata": {},
   "outputs": [],
   "source": [
    "matrix = confusion_matrix(y_test, y_pred)\n",
    "matrix"
   ]
  },
  {
   "cell_type": "code",
   "execution_count": null,
   "id": "394f4ba7",
   "metadata": {},
   "outputs": [],
   "source": [
    "plt.figure(figsize=(4, 3), dpi=80)\n",
    "sns.heatmap(matrix, annot=True, fmt=\"d\", cmap=\"Blues\")\n",
    "plt.xlabel('Predito')\n",
    "plt.ylabel('Real')\n",
    "plt.title('Matriz de confusão')\n",
    "plt.show()"
   ]
  },
  {
   "cell_type": "markdown",
   "id": "27905cf4",
   "metadata": {},
   "source": [
    "#### Acurácia (Accuracy)"
   ]
  },
  {
   "cell_type": "markdown",
   "id": "a470b3f8",
   "metadata": {},
   "source": [
    "<img src=\"https://s3-sa-east-1.amazonaws.com/lcpi/8aa5276a-ef3e-4529-aaec-d13944de905d.png\" width=300>"
   ]
  },
  {
   "cell_type": "code",
   "execution_count": null,
   "id": "008d0dc3",
   "metadata": {},
   "outputs": [],
   "source": [
    "accuracy = accuracy_score(y_test, y_pred)\n",
    "print(\"Acurácia:\", accuracy)"
   ]
  },
  {
   "cell_type": "markdown",
   "id": "8ce66814",
   "metadata": {},
   "source": [
    "#### Probabilidade"
   ]
  },
  {
   "cell_type": "code",
   "execution_count": null,
   "id": "19f4414c",
   "metadata": {},
   "outputs": [],
   "source": [
    "y_pred = model.predict(X_test)\n",
    "y_pred"
   ]
  }
 ],
 "metadata": {
  "kernelspec": {
   "display_name": "Python 3 (ipykernel)",
   "language": "python",
   "name": "python3"
  },
  "language_info": {
   "codemirror_mode": {
    "name": "ipython",
    "version": 3
   },
   "file_extension": ".py",
   "mimetype": "text/x-python",
   "name": "python",
   "nbconvert_exporter": "python",
   "pygments_lexer": "ipython3",
   "version": "3.10.11"
  }
 },
 "nbformat": 4,
 "nbformat_minor": 5
}
