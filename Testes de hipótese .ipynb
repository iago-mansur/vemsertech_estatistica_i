{
 "cells": [
  {
   "cell_type": "markdown",
   "id": "871adda7",
   "metadata": {},
   "source": [
    "## Teste de Hipótese"
   ]
  },
  {
   "cell_type": "markdown",
   "id": "43ce9ae6",
   "metadata": {},
   "source": [
    "<img src=\"https://www.inf.ufsc.br/~andre.zibetti/probabilidade/img/estimacao.png\">"
   ]
  },
  {
   "cell_type": "markdown",
   "id": "41436aea",
   "metadata": {},
   "source": [
    "Uma hipótese será uma declaração sobre um parâmetro da população, ou seja para dado $\\mu$, $\\sigma^2$ e $p$ da população usaremos estimadores como $\\overline{X}$, $S^2$ e $\\hat{p}$ para as amostras. \n",
    "\n",
    "<img src=\"https://s3-sa-east-1.amazonaws.com/lcpi/98bd6e95-d47f-428a-a3e7-6028ba6802df.png\" >\n",
    "\n",
    "<br>\n",
    "\n",
    "Por este motivo **nós apenas rejeitamos $H_0$ ou não temos confiança para rejeitar $H_0$**. Nunca dizemos **aceitar $H_1$** pois existem várias outras alternativas a serem testadas para saber se nós aceitamos a alternativa correta de fato.\n",
    "\n",
    "\n",
    "Quando vamos aplicar o teste de hipóteses queremos testar alguma informação relevante sobre um atributo da população, de maneira a aceitar ou rejeitar esta informação. Para isto é que formulamos as chamadas __hipótese nula__ ($ H_{0}$) e a __hipótese alternativa__ ($H_{a}$ ou $H_{1}$), sendo a hipótese alternativa normalmente a rejeição da hipótese nula.\n",
    "\n",
    "Ao testar essas hipóteses podemos cair nos seguintes casos:\n",
    "\n",
    "\n",
    "\n",
    "<br>\n",
    "<hr>\n",
    "<br>"
   ]
  },
  {
   "cell_type": "markdown",
   "id": "c7d0423e",
   "metadata": {},
   "source": [
    "| Hipóteses | $H_{0}$ é verdadeira | $H_{0}$ é falsa |\n",
    "|-----------|----------------------|-----------------|\n",
    "| Rejeitar $H_{0}$ | Erro tipo I ($\\alpha$) | Sem erro |\n",
    "| Aceitar $H_{0}$  | Sem erro | Erro tipo II ($\\beta$) |"
   ]
  },
  {
   "cell_type": "markdown",
   "id": "8c87baf4",
   "metadata": {},
   "source": [
    "Qualquer que seja a decisão tomada estamos sujeitos a cometer erros. Para facilitar a linguagem, introduzimos as definições:\n",
    "\n",
    "- **Erro de tipo I (falso positivo):** rejeitar a hipótese nula quando essa é verdadeira. Chamamos de $\\alpha$ a probabilidade de cometer esse erro, isto é\n",
    "\n",
    "$$\\alpha = P(\\text{Erro tipo 1}) = P(\\text{Rejeitar} H_0|H_0 \\text{é verdadeira}) $$\n",
    "\n",
    "- **Erro de tipo II (falso negativo):** não rejeitar a hipótese nula quando ela é falsa. Sendo $\\beta$ a probabilidade de cometer esse erro, ou seja\n",
    "\n",
    "$$\\beta = P(\\text{Erro tipo 2}) = P(\\text{não Rejeitar} H_0|H_0 \\text{é falsa}) $$"
   ]
  },
  {
   "cell_type": "markdown",
   "id": "1dba80c1",
   "metadata": {},
   "source": [
    "Partindo para as distribuições podemos interpretar cada um dos erros também como a figura a seguir:"
   ]
  },
  {
   "cell_type": "markdown",
   "id": "1777347b",
   "metadata": {},
   "source": [
    "\n",
    "\n",
    "<img src = 'https://s3-sa-east-1.amazonaws.com/lcpi/19739deb-df16-48ab-89e0-33c43a850b18.png' width=600>"
   ]
  },
  {
   "cell_type": "markdown",
   "id": "1f766fef",
   "metadata": {},
   "source": [
    "Operacionalmente, essa decisão é tomada através da consideração de uma região crítica RC de forma que $\\alpha = P(\\hat{\\theta} \\in RC| H_0)$ \n",
    "\n",
    "$\\alpha$, constuma ser um valor arbitrário, comumente 0.1%, 1% ou 5%, que determina o **nível de significância** do nosso teste. De forma equivalente $1-\\alpha$ é a nossa confiança."
   ]
  },
  {
   "cell_type": "markdown",
   "id": "b7da5ab4",
   "metadata": {},
   "source": [
    "### Teste bicaudal vs unicaudal\n",
    "\n",
    "\n",
    "<img src=\"https://caelum-online-public.s3.amazonaws.com/1229-estatistica-parte3/01/img002.png\" weight=50%>"
   ]
  },
  {
   "cell_type": "markdown",
   "id": "08872dbb",
   "metadata": {},
   "source": [
    "### Conceitos importantes"
   ]
  },
  {
   "cell_type": "markdown",
   "id": "acc39eda",
   "metadata": {},
   "source": [
    "- __Intervalo de confiança:__ A faixa de valores que provavelmente contém o valor verdadeiro de um parâmetro com base em uma amostra de dados.\n",
    "- __Nível de significância__: O nível de significância, frequentemente representado como α, é um valor pré-definido escolhido pelo pesquisador antes de realizar um teste de hipóteses.Ele define o limiar ou a fronteira para determinar a significância estatística.\n",
    "- __p-valor__: O valor-p é a probabilidade de observar uma estatística de teste tão extrema ou mais extrema do que aquela calculada a partir dos dados da amostra, assumindo que a hipótese nula seja verdadeira.\n",
    "   - p-valor < 0.05: rejeita-se a hipótese nula;\n",
    "   - p-valor >= 0.05: não rejeita-se a hipótese nula; \n",
    " "
   ]
  },
  {
   "cell_type": "markdown",
   "id": "d2095d41",
   "metadata": {},
   "source": [
    "### Etapas na construção de um teste de hipótese"
   ]
  },
  {
   "cell_type": "markdown",
   "id": "17953f79",
   "metadata": {},
   "source": [
    "1. Defina a hipótese nula e a hipótese alternativa\n",
    "2. Calcule o valor observado (Z_obs ou T_obs)\n",
    "3. Faça o gráfico da distribuição amostral com a região crítica\n",
    "4. Obtenha o valor crítico do teste de acordo com o nível de significancia (alpha)\n",
    "5. Marque o valor no gráfico\n",
    "6. Interprete o resultado"
   ]
  },
  {
   "cell_type": "markdown",
   "id": "686919bc",
   "metadata": {},
   "source": [
    "### Exemplo"
   ]
  },
  {
   "cell_type": "markdown",
   "id": "f0fcb900",
   "metadata": {},
   "source": [
    "Uma máquina automática para encher pacotes de café enche-os segundo uma distribuição normal, com média μ e variância sempre igual a 400 $g^2$. A máquina foi regulada para μ = 500 g. Desejamos, periodicamente, colher uma amostra de 16 pacotes e verificar se a produção está sob controle, isto é, se μ = 500 g ou não. Se uma dessas amostras apresentasse uma média $\\overline{X} = 492$ g, você pararia ou não a produção para regular a máquina?"
   ]
  },
  {
   "cell_type": "markdown",
   "id": "5671320e",
   "metadata": {},
   "source": [
    "Para determinar se você deve parar a produção para regular a máquina com base em uma amostra de 16 pacotes de café, você pode realizar um teste de hipótese. A hipótese nula (H0) é que a média real (μ) do enchimento dos pacotes de café é igual a 500 g, conforme regulado pela máquina. A hipótese alternativa (H1) é que a média real é diferente de 500 g. \n",
    "\n",
    "Aqui estão os passos para realizar o teste de hipótese:\n",
    "\n",
    "1. **Hipóteses:**\n",
    "   - Hipótese Nula (H0): μ = 500 g\n",
    "   - Hipótese Alternativa (H1): μ ≠ 500 g (dois lados)\n",
    "\n",
    "2. **Nível de Significância (α):**\n",
    "   - Normalmente, escolhemos um nível de significância, como α = 0,05, para testes de hipóteses.\n",
    "\n",
    "3. **Estatística de Teste:**\n",
    "   - Você pode usar a estatística t, dada por:\n",
    "     ```\n",
    "     t = (X̄ - μ) / (σ/√n)\n",
    "     ```\n",
    "     onde:\n",
    "     - X̄ é a média amostral (492 g)\n",
    "     - μ é a média hipotética (500 g)\n",
    "     - σ é o desvio padrão populacional (raiz quadrada da variância, ou seja, √400 g² = 20 g)\n",
    "     - n é o tamanho da amostra (16 pacotes)\n",
    "\n",
    "4. **Região Crítica:**\n",
    "   - Determine a região crítica com base no nível de significância e o tipo de teste (bilateral). Para um nível de significância de 0,05, o valor crítico z para um teste bilateral seria aproximadamente ±1,96 (usando a tabela z ou calculadora).\n",
    "\n",
    "\n",
    "Vamos fixar α = 1%. Pela hipótese alternativa, vemos que H0 deve ser rejeitada quando a média for muito pequena ou muito grande conforme a figura abaixo\n",
    "\n",
    "<img src = \"https://s3-sa-east-1.amazonaws.com/lcpi/1b33f8dc-d251-45ac-a3e2-536a2791da26.png\" width = \"50%\"></img>\n",
    "\n",
    "\n",
    "\n",
    "5. **Tomada de Decisão:**\n",
    "   - Calcule a estatística de teste t.\n",
    "   - Compare a estatística de teste com os valores críticos.\n",
    "   - Se a estatística de teste estiver dentro da região crítica, rejeite a hipótese nula (H0).\n",
    "   - Se a estatística de teste estiver fora da região crítica, não rejeite a hipótese nula (H0).\n",
    "\n",
    "Agora, calcule a estatística de teste t:\n",
    "\n",
    "```\n",
    "t = (492 - 500) / (20/√16) = (-8) / 5 = -1,6\n",
    "```\n",
    "\n",
    "Com um valor de -1,6 para a estatística de teste e um nível de significância de 0,05 para um teste bilateral, o valor crítico z seria ±1,96. Como -1,6 está fora da região crítica (entre -1,96 e 1,96), não podemos rejeitar a hipótese nula.\n",
    "\n",
    "Portanto, com base nesta amostra, não há evidências estatísticas suficientes para afirmar que a máquina não está sob controle. Você não pararia a produção com base nesses resultados, mas pode ser necessário monitorar continuamente a produção para garantir que a média permaneça próxima de 500 g."
   ]
  }
 ],
 "metadata": {
  "kernelspec": {
   "display_name": "Python 3 (ipykernel)",
   "language": "python",
   "name": "python3"
  },
  "language_info": {
   "codemirror_mode": {
    "name": "ipython",
    "version": 3
   },
   "file_extension": ".py",
   "mimetype": "text/x-python",
   "name": "python",
   "nbconvert_exporter": "python",
   "pygments_lexer": "ipython3",
   "version": "3.10.11"
  }
 },
 "nbformat": 4,
 "nbformat_minor": 5
}
