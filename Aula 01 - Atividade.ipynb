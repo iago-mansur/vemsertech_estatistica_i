{
 "cells": [
  {
   "cell_type": "markdown",
   "id": "235b899d",
   "metadata": {},
   "source": [
    "## Atividade - Probabilidade"
   ]
  },
  {
   "cell_type": "markdown",
   "id": "4c39b9e9",
   "metadata": {},
   "source": [
    "### 01 - Problema da aleatoriedade\n",
    "\n",
    "Ao somar duas ou mais variáveis aleatórias temos uma variável MAIS ou MENOS aleatória? Demonstre seu raciocínio com um programa python.<br>\n",
    "No contexto da questão, considere aleatoriedade como sinônimo de imprevisibilidade."
   ]
  },
  {
   "cell_type": "markdown",
   "id": "3eed442c",
   "metadata": {},
   "source": [
    "### 02 - O problema de Monty Hall\n",
    "\n",
    "Neste problema, você é o participante de um programa de auditório, e o apresentador lhe mostra três portas fechadas.\n",
    "\n",
    "Ele diz que atrás de uma das portas está um carro, e atrás das outras duas há apenas bodes.\n",
    "\n",
    "Se você escolher a porta certa, ganha o carro – caso contrário levará apenas um bode.\n",
    "\n",
    "Você escolhe uma das portas.\n",
    "\n",
    "O apresentador, então, sem abrir a porta que você escolheu, dirige-se para uma das outras duas portas que sobraram.\n",
    "\n",
    "Como ele sabe em qual das três portas está o carro, ele então abre uma das duas portas que você não tinha escolhido – exatamente uma porta que escondia um dos bodes (**sempre a que contém um bode**).\n",
    "\n",
    "Restaram então apenas duas portas fechadas: aquela que você tinha escolhido, e uma outra que não foi aberta pelo apresentador.\n",
    "\n",
    "Atrás de uma delas está o carro.\n",
    "\n",
    "O apresentador então pergunta se você quer manter a escolha original ou se quer, agora, trocar de porta, escolhendo a outra que ele não abriu e que pode conter o carro.\n",
    "\n",
    "O que você deve fazer:\n",
    "    \n",
    "1 – Manter a escolha original, ou\n",
    "\n",
    "2 – Trocar de porta?\n",
    "\n",
    "Qual escolha tem maior probabilidade de escolher a porta do carro?"
   ]
  },
  {
   "cell_type": "code",
   "execution_count": null,
   "id": "f1b54a5d",
   "metadata": {},
   "outputs": [],
   "source": []
  },
  {
   "cell_type": "markdown",
   "id": "05509c28",
   "metadata": {},
   "source": [
    "### 02 - Problema da aleatoriedade\n",
    "\n",
    "Ao somar duas ou mais variáveis aleatórias temos uma variável MAIS ou MENOS aleatória? Demonstre seu raciocínio com um programa python.<br>\n",
    "Considere aleatoriedade como sinonimo de imprevisibilidade."
   ]
  },
  {
   "cell_type": "code",
   "execution_count": null,
   "id": "5d79ab7f",
   "metadata": {},
   "outputs": [],
   "source": []
  },
  {
   "cell_type": "code",
   "execution_count": null,
   "id": "6559940d",
   "metadata": {},
   "outputs": [],
   "source": []
  },
  {
   "cell_type": "code",
   "execution_count": null,
   "id": "fc163627",
   "metadata": {},
   "outputs": [],
   "source": []
  },
  {
   "cell_type": "code",
   "execution_count": null,
   "id": "be7a931e",
   "metadata": {},
   "outputs": [],
   "source": []
  },
  {
   "cell_type": "code",
   "execution_count": null,
   "id": "7722e9f9",
   "metadata": {},
   "outputs": [],
   "source": []
  },
  {
   "cell_type": "code",
   "execution_count": null,
   "id": "54ce283d",
   "metadata": {},
   "outputs": [],
   "source": []
  }
 ],
 "metadata": {
  "kernelspec": {
   "display_name": "Python 3 (ipykernel)",
   "language": "python",
   "name": "python3"
  },
  "language_info": {
   "codemirror_mode": {
    "name": "ipython",
    "version": 3
   },
   "file_extension": ".py",
   "mimetype": "text/x-python",
   "name": "python",
   "nbconvert_exporter": "python",
   "pygments_lexer": "ipython3",
   "version": "3.10.11"
  }
 },
 "nbformat": 4,
 "nbformat_minor": 5
}
