{
 "cells": [
  {
   "cell_type": "markdown",
   "id": "44db3b7d",
   "metadata": {},
   "source": [
    "# Probabilidade\n",
    "\n",
    "\n",
    "## 1. Introdução\n",
    "\n",
    "A __Probabilidade__ é uma área dentro da matemática e estatística que visa estudar e entender os eventos de comportamento __aleatório__, cujos resultados destes eventos são __probabilísticos__ ou __estocásticos__. Em sistemas na natureza, existem poucos deles que de fato se comportam aleatoriamente, mas é conveniente tratar estes sistemas como estocásticos a fim de avaliar as probabilidades.\n",
    "\n",
    "Alguns exemplos clássicos de aplicação de probabilidade são o lançamento de objetos como moedas e dados, seleção de bolas com ou sem repetições dentre outras aplicações, mas o estudo da probabilidade serve de fundamental ferramenta para a análise de dados, onde cria-se modelos que buscam generalizar relações que não podem ser determinadas diretamente, pois o acesso ao total da população destes dados é limitado, muitas dessas análises sendo feitas a partir de amostras. Dessa forma, entender os principais conceitos de probabilidade são cruciais para o desenvolvimento dentro da análise de dados.\n",
    "\n",
    "<br><br>"
   ]
  },
  {
   "cell_type": "markdown",
   "id": "8ebef6bf",
   "metadata": {},
   "source": [
    "Primeiro, um aviso amigável...\n",
    "\n",
    "<img src='https://s3-sa-east-1.amazonaws.com/lcpi/78a9c5aa-9e76-40dc-9891-72fe32eda956.jpg' style=\"height: 400px; width:400px;\" />"
   ]
  },
  {
   "cell_type": "markdown",
   "id": "6eb0dbd2",
   "metadata": {},
   "source": [
    "## 2. Espaço Amostral\n",
    "\n",
    "O **espaço amostral** é o conjunto de __todos os resultados possíveis__ de um determinado fenômeno aleatório, ou seja, todos os valores possíveis que um fenômeno possa assumir. O espaço amostral comumente é representado pela letra grega  <img src=\"https://i.upmath.me/svg/%5Comega\" alt=\"\\omega\" />. Os subconjuntos de <img src=\"https://i.upmath.me/svg/%5Comega\" alt=\"\\omega\" /> são denominados **eventos** e comumente representados por letras maiúsculas (A, B entre outras). \n",
    "\n",
    "Por exemplo, em um estudo onde o objetivo é avaliar os resultados do lançamento de um dado honesta e perfeito, ou seja o dado é simétrico e homogêneo, a definição do espaço amostral <img src=\"https://i.upmath.me/svg/%5Comega\" alt=\"\\omega\" /> é dado por: <img src=\"https://i.upmath.me/svg/%5Comega%20%3D%20%5C%7B1%2C%202%2C%203%2C%204%2C%205%2C%206%5C%7D%20\" alt=\"\\omega = \\{1, 2, 3, 4, 5, 6\\} \" />\n",
    "\n",
    "Levando em conta que o espaço amostral abrange todos os resultados possíveis, alguns exemplos de eventos ou subconjuntos desse espaço amostral estão indicados abaixo:\n",
    "\n",
    "- __Evento A__ = {1} : o resultado do lançamento do dado seja igual a 1;\n",
    "\n",
    "- __Evento B__ = {2, 4, 6} : o resultado do lançamento do dado seja um número par;\n",
    "\n",
    "- __Evento C__ = {5, 6}: o resultado do lançamento do dado seja maior do que 4;\n",
    "\n",
    "<br><br>\n",
    "  "
   ]
  },
  {
   "cell_type": "markdown",
   "id": "8a466832",
   "metadata": {},
   "source": [
    "  \n",
    "## Propriedades de Eventos de Probabilidade\n",
    "\n",
    "Para que uma função <b>\"P\"</b> seja denominada como a __probabilidade de determinado evento__, esta função deve satisfazer algumas propriedades:\n",
    "    \n",
    "- A probabilidade de um evento **\"A\"** ocorrer será tal que <img src=\"https://i.upmath.me/svg/0%5Cleq%20P(A)%20%5Cleq%201\" alt=\"0\\leq P(A) \\leq 1\" />\n",
    "<br><br>\n",
    "- A probabilidade do espaço amostral será <img src=\"https://i.upmath.me/svg/%20P(%5Comega)%20%3D%201\" alt=\" P(\\omega) = 1\" />, pois o espaço amostral abrange todos os eventos possíveis;\n",
    "\n",
    "<br><br>\n",
    "\n",
    "- A probabilidade conjunta de **\"n\"** eventos é dada por <img src=\"https://i.upmath.me/svg/%20P(%5Ccup%20A_%7Bj%7D)%3D%20%5Csum_%7Bj%3D1%7D%5E%7Bn%7DP(A_%7Bj%7D)\" alt=\" P(\\cup A_{j})= \\sum_{j=1}^{n}P(A_{j})\" />, no caso destes eventos sejam mutuamente exclusivos.    \n",
    "  \n",
    "<br><br>"
   ]
  },
  {
   "cell_type": "code",
   "execution_count": null,
   "id": "86a0eca7",
   "metadata": {},
   "outputs": [],
   "source": []
  },
  {
   "cell_type": "markdown",
   "id": "622a59a2",
   "metadata": {},
   "source": [
    "## Probabilidade\n",
    "\n",
    "**Probabilidade** é a chance de ocorrência de um evento dado um horizonte de eventos possíveis.\n",
    "\n",
    "No que tange definir a probabilidade de um determinado evento, pode ser feito o levantamento da probabilidade de duas maneiras:\n",
    "\n",
    "> 1) A partir das propriedades teóricas do determinado evento\n",
    "\n",
    "Então voltando ao exemplo do lançamento de um dado, foi definido que o espaço amostral seria igual a <img align=\"center\" src=\"https://i.upmath.me/svg/%5Comega%20%3D%201%2C2%2C3%2C4%2C5%2C6\" alt=\"\\omega = 1,2,3,4,5,6\" />. Novamente levantando as considerações sobre a característica física do dado, ou seja um dado homogêneo e perfeito, onde todas as faces são simétricas e têm igual chance de ocorrer, a probabilidade de ocorrer cada um dos lados do dado pode ser definida como:\n",
    "\n",
    "<img align=\"center\" src=\"https://i.upmath.me/svg/%20P(1)%20%3D%20P(2)%20%3D%20P(3)%20%3D%20P(4)%20%3D%20P(5)%20%3D%20P(6)%20%3D%20%5Cfrac%7B1%7D%7B6%7D%20%3D%200%2C166...\" alt=\" P(1) = P(2) = P(3) = P(4) = P(5) = P(6) = \\frac{1}{6} = 0,166...\" />\n",
    "\n",
    "> 2) A partir de exaustivas experimentações\n",
    "\n",
    "Ainda no problema onde serão feitos lançamentos de dados, uma forma de chegar nos valores das probabilidades para cada uma das faces do dado seria justamente repetir várias vezes o lançamento do dado e anotando os valores dos resultados, à medida que são feitos muitos experimentos (neste exemplo, serão simulados 1 milhão de lançamentos), a tendência é que os valores das probabilidades __convirjam para o valor teórico__. Abaixo segue um exemplo de implementação em _Python_ de uma simulação de 1 milhão de lançamentos de dados e as frequências relativas das faces:\n",
    "\n",
    "\n",
    "```python\n",
    "# Definindo uma semente aleatória\n",
    "np.random.seed(42)\n",
    "\n",
    "# Número de experimentos\n",
    "N = 1000000\n",
    "\n",
    "# Definindo os resultados de um dado a partir de números aleatórios entre 1 e 6\n",
    "amostra = np.random.randint(low = 1, # limite inferior\n",
    "                            high = 7, # limite superior (não incluso)\n",
    "                            size = N) # quantidade de experimentos a ser feito\n",
    "\n",
    "# Convertendo a amostra para uma Séries e calculando as frequências relativas\n",
    "print(pd.Series(amostra).value_counts(normalize = True))\n",
    "```\n",
    "<br><br>"
   ]
  },
  {
   "cell_type": "code",
   "execution_count": null,
   "id": "34cc6a3d",
   "metadata": {},
   "outputs": [],
   "source": []
  },
  {
   "cell_type": "markdown",
   "id": "ea32b4e2",
   "metadata": {},
   "source": [
    "## Distribuição de probabilidade\n",
    "\n",
    "Uma distribuição de probabilidade é um conceito matemático que relaciona um certo valor da variável em estudo com a sua probabilidade de ocorrência. "
   ]
  },
  {
   "cell_type": "markdown",
   "id": "f98e928e",
   "metadata": {},
   "source": [
    "**Exemplo**: A soma de dois valores aleatórios no mesmo intervalo aumenta, mantém ou reduz a aleatoriedade?"
   ]
  },
  {
   "cell_type": "code",
   "execution_count": null,
   "id": "f314207b",
   "metadata": {},
   "outputs": [],
   "source": []
  },
  {
   "cell_type": "code",
   "execution_count": null,
   "id": "34d9ed6f",
   "metadata": {},
   "outputs": [],
   "source": []
  },
  {
   "cell_type": "markdown",
   "id": "2596d78a",
   "metadata": {},
   "source": [
    "### Teorema do limite central"
   ]
  },
  {
   "cell_type": "markdown",
   "id": "b56a15d5",
   "metadata": {},
   "source": [
    "O teorema afirma que quando mais o tamanho da amostra aumenta, a distribuição amostral da sua média aproxima-se cada vez mais de uma distribuição normal. Em outras palavras, o teorema do limite central nos mostra que, quando coletamos muitas amostras de uma população e calculamos as médias dessas amostras, a distribuição dessas médias se torna cada vez mais próxima de uma distribuição normal."
   ]
  },
  {
   "cell_type": "markdown",
   "id": "5068bc29",
   "metadata": {},
   "source": [
    "![](https://s3-sa-east-1.amazonaws.com/lcpi/7be65a8c-3d59-4b58-8f1f-0f24ae7761ab.jpg)"
   ]
  },
  {
   "cell_type": "code",
   "execution_count": null,
   "id": "63e84e33",
   "metadata": {},
   "outputs": [],
   "source": []
  },
  {
   "cell_type": "code",
   "execution_count": null,
   "id": "83668f39",
   "metadata": {},
   "outputs": [],
   "source": []
  },
  {
   "cell_type": "code",
   "execution_count": null,
   "id": "b3ba47c4",
   "metadata": {},
   "outputs": [],
   "source": []
  },
  {
   "cell_type": "markdown",
   "id": "9ba0e091",
   "metadata": {},
   "source": [
    "## Probabilidade da União de Eventos\n",
    "\n",
    "Dados dois eventos aleatórios quaisquer **\"A\"** e **\"B\"**, o cálculo da probabilidade da união desses eventos é determinada da seguinte forma:\n",
    "    \n",
    "<img align=\"center\" src=\"https://i.upmath.me/svg/P(A%20%5Ccup%20B)%20%3D%20P(A)%20%2B%20P(B)%20-%20P(A%20%5Ccap%20B)\" alt=\"P(A \\cup B) = P(A) + P(B) - P(A \\cap B)\" />\n",
    "\n",
    "Exemplificando com uma aplicação, qual seria a probabilidade que em um lançamento de dado saia um número par ou maior ou igual a 3?\n",
    "\n",
    "Primeiramente, define o espaço amostral para o dado sendo <img align=\"center\" src=\"https://i.upmath.me/svg/%5Comega%20%3D%201%2C2%2C3%2C4%2C5%2C6\" alt=\"\\omega = 1,2,3,4,5,6\" />. \n",
    "Os eventos <img src=\"https://i.upmath.me/svg/A\" alt=\"A\" /> (saiu um número par no dado) e <img src=\"https://i.upmath.me/svg/B\" alt=\"B\" /> (saiu um número maior ou igual a 3) são definidos da seguinte forma:\n",
    "\n",
    "- Evento <img src=\"https://i.upmath.me/svg/A\" alt=\"A\" /> = <img src=\"https://i.upmath.me/svg/%5C%7B2%2C%204%2C%206%5C%7D\" alt=\"\\{2, 4, 6\\}\" />, ou seja a probabilidade do evento A será <img src=\"https://i.upmath.me/svg/P(A)%20%3D%20%5Cfrac%7BN_A%7D%7BN_%7B%5Comega%7D%7D%20%3D%20%5Cfrac%7B3%7D%7B6%7D%20%3D%20%5Cfrac%7B1%7D%7B2%7D\" alt=\"P(A) = \\frac{N_A}{N_{\\omega}} = \\frac{3}{6} = \\frac{1}{2}\" />\n",
    "\n",
    "- Evento <img src=\"https://i.upmath.me/svg/B\" alt=\"B\" /> = <img src=\"https://i.upmath.me/svg/%5C%7B3%2C%204%2C%205%2C%206%5C%7D\" alt=\"\\{3, 4, 5, 6\\}\" />, ou seja a probabilidade do evento B será <img src=\"https://i.upmath.me/svg/P(B)%20%3D%20%5Cfrac%7BN_B%7D%7BN_%7B%5Comega%7D%7D%20%3D%20%5Cfrac%7B4%7D%7B6%7D%20%3D%20%5Cfrac%7B2%7D%7B3%7D\" alt=\"P(B) = \\frac{N_B}{N_{\\omega}} = \\frac{4}{6} = \\frac{2}{3}\" />\n",
    "\n",
    "Agora, resta definir a probabilidade do evento <img src=\"https://i.upmath.me/svg/A%20%E2%88%A9%20B\" alt=\"A ∩ B\" />, que seria ao lançar um dado sair um número par e um número maior ou igual a 3:\n",
    "\n",
    " - Evento <img src=\"https://i.upmath.me/svg/A%20%E2%88%A9%20B%20%3D%20%5C%7B4%2C%206%5C%7D\" alt=\"A ∩ B = \\{4, 6\\}\" />, ou seja a probabilidade do evento <img src=\"https://i.upmath.me/svg/A%20%E2%88%A9%20B\" alt=\"A ∩ B\" /> será <img src=\"https://i.upmath.me/svg/P(A%20%E2%88%A9%20B)%20%3D%20%5Cfrac%7BN_%7BA%20%E2%88%A9%20B%7D%7D%7BN_%7B%5Comega%7D%7D%20%3D%20%5Cfrac%7B2%7D%7B6%7D%20%3D%20%5Cfrac%7B1%7D%7B3%7D\" alt=\"P(A ∩ B) = \\frac{N_{A ∩ B}}{N_{\\omega}} = \\frac{2}{6} = \\frac{1}{3}\" />\n",
    " \n",
    " Definidas todas as probabilidades, aplica-se a fórmula da união de eventos:\n",
    " \n",
    "<img align=\"center\" src=\"https://i.upmath.me/svg/P(A%20%5Ccup%20B)%20%3D%20P(A)%20%2B%20P(B)%20-%20P(A%20%5Ccap%20B)%20%20%3D%20%5Cfrac%7B1%7D%7B2%7D%20%2B%20%5Cfrac%7B2%7D%7B3%7D%20-%20%5Cfrac%7B1%7D%7B3%7D%20%3D%20%5Cfrac%7B5%7D%7B6%7D\" alt=\"P(A \\cup B) = P(A) + P(B) - P(A \\cap B)  = \\frac{1}{2} + \\frac{2}{3} - \\frac{1}{3} = \\frac{5}{6}\" />\n",
    "\n",
    "<br>\n",
    "\n",
    "Uma observação importante a ser feita é que ao lembrar das propriedades da probabilidade, no caso de os eventos <img src=\"https://i.upmath.me/svg/A\" alt=\"A\" /> e <img src=\"https://i.upmath.me/svg/B\" alt=\"B\" /> serem mutuamente exclusivos (quando um evento ocorre, o outro não), pode-se simplificar a formúla da união de eventos como a seguir:\n",
    "\n",
    "<img align=\"center\" src=\"https://i.upmath.me/svg/P(A%20%5Ccup%20B)%20%3D%20P(A)%20%2B%20P(B)\" alt=\"P(A \\cup B) = P(A) + P(B)\" />\n",
    "\n",
    "<br><br>"
   ]
  },
  {
   "cell_type": "markdown",
   "id": "f6247709",
   "metadata": {},
   "source": [
    "### Exemplo\n",
    "\n",
    "Qual a probabilidade de a soma de dos lançamentos de dois dados darem 7?"
   ]
  },
  {
   "cell_type": "markdown",
   "id": "c939b501",
   "metadata": {},
   "source": [
    "![](https://s3-sa-east-1.amazonaws.com/lcpi/e769ed29-ed59-423c-80af-69780f70eedf.png)"
   ]
  },
  {
   "cell_type": "code",
   "execution_count": null,
   "id": "654d942a",
   "metadata": {},
   "outputs": [],
   "source": []
  },
  {
   "cell_type": "markdown",
   "id": "29d6778f",
   "metadata": {},
   "source": [
    "### Exemplo prático\n",
    "\n",
    "Imagine que você trabalha em uma empresa de e-commerce e quer entender melhor o comportamento dos seus clientes. Você tem dois eventos:\n",
    "\n",
    "1. **Evento A:** O cliente clica em um anúncio de produto (por exemplo, um par de sapatos).\n",
    "2. **Evento B:** O cliente adiciona um produto ao carrinho de compras (pode ser o mesmo par de sapatos ou outro produto).\n",
    "\n",
    "Agora, você quer saber a probabilidade de um cliente, ao visitar seu site, clicar em um anúncio de produto ou adicionar um produto ao carrinho de compras (ou ambos). Isso é a probabilidade de união dos eventos A e B.\n",
    "\n",
    "A fórmula para calcular a probabilidade de união de dois eventos é:\n",
    "\n",
    "$ P(A \\cup B) = P(A) + P(B) - P(A \\cap B) $\n",
    "\n",
    "Onde:\n",
    "- $ P(A \\cup B) $ é a probabilidade de ocorrer o evento A ou o evento B (ou ambos).\n",
    "- $ P(A) $ é a probabilidade de ocorrer o evento A (cliente clica em um anúncio).\n",
    "- $ P(B) $ é a probabilidade de ocorrer o evento B (cliente adiciona um produto ao carrinho).\n",
    "- $ P(A \\cap B) $ é a probabilidade de ocorrerem os eventos A e B ao mesmo tempo (cliente clica em um anúncio e adiciona um produto ao carrinho).\n",
    "\n",
    "Suponha que, com base em dados históricos, você saiba que:\n",
    "- 30% dos visitantes clicam em um anúncio de produto (ou seja, $ P(A) = 0.30 $).\n",
    "- 25% dos visitantes adicionam um produto ao carrinho de compras (ou seja, $ P(B) = 0.25 $).\n",
    "- 10% dos visitantes clicam em um anúncio de produto e adicionam um produto ao carrinho de compras (ou seja, $ P(A \\cap B) = 0.10 $).\n",
    "\n",
    "Então, a probabilidade de um visitante clicar em um anúncio de produto ou adicionar um produto ao carrinho de compras (ou ambos) é:\n",
    "\n",
    "$ P(A \\cup B) = 0.30 + 0.25 - 0.10 = 0.45 $\n",
    "\n",
    "Isso significa que há uma probabilidade de 45% de um visitante realizar pelo menos uma dessas ações ao visitar seu site de e-commerce. Essa informação pode ser útil para entender o envolvimento dos clientes com o seu site e para planejar estratégias de marketing e vendas."
   ]
  },
  {
   "cell_type": "markdown",
   "id": "f87ecdf0",
   "metadata": {},
   "source": [
    "## 6. Probabilidade Condicional\n",
    "\n",
    "Sejam dois eventos aleatórios **\"A\"** e **\"B\"**. Define-se a probabilidade condicional entre esses eventos pela seguinte relação:\n",
    "    \n",
    "<center><img align=\"center\" src=\"https://i.upmath.me/svg/P(A%20%7C%20B)%20%3D%20%5Cfrac%7BP(A%20%5Ccap%20B)%7D%7BP(B)%7D\" alt=\"P(A | B) = \\frac{P(A \\cap B)}{P(B)}\" /></center>\n",
    "\n",
    "Esta relação só será válida se a probabilidade do evento **\"B\"** for maior que zero, ou seja, <img src=\"https://i.upmath.me/svg/%20P(B)%20%3E%200\" alt=\" P(B) &gt; 0\" />. A forma como é interpretada a notação <img src=\"https://i.upmath.me/svg/P(A%20%7C%20B)\" alt=\"P(A | B)\" /> seria __qual a probabilidade do evento **\"A\"**  ocorrer, dado que o evento **\"B\"** já ocorreu__. \n",
    "\n",
    "Em problemas de probabilidade condicional, a principal diferença é que o espaço amostral de referência para a probabilidade irá mudar.\n",
    "\n",
    "Por exemplo, qual a probabilidade de, ao lançar um dado, sair um número ímpar, dado que o número que saiu é maior do que 2?\n",
    "\n",
    "Deve-se primeiro notar que o espaço amostral para o dado é <img src=\"https://i.upmath.me/svg/%5Comega%20%3D%20%5C%7B1%2C%202%2C%203%2C%204%2C%205%2C%206%5C%7D\" alt=\"\\omega = \\{1, 2, 3, 4, 5, 6\\}\" />. Os eventos <img src=\"https://i.upmath.me/svg/A\" alt=\"A\" /> (saiu um número ímpar no dado) e <img src=\"https://i.upmath.me/svg/B\" alt=\"B\" /> (saiu um número maior do que 2) são definidos da seguinte forma:\n",
    "\n",
    "- Evento <img src=\"https://i.upmath.me/svg/A%20%3D%20%24%5C%7B1%2C%203%2C%205%5C%7D\" alt=\"A = $\\{1, 3, 5\\}\" />, ou seja a probabilidade do evento A será <img src=\"https://i.upmath.me/svg/P(A)%20%3D%20%5Cfrac%7BN_A%7D%7BN_%7B%5Comega%7D%7D%20%3D%20%5Cfrac%7B3%7D%7B6%7D%20%3D%20%5Cfrac%7B1%7D%7B2%7D\" alt=\"P(A) = \\frac{N_A}{N_{\\omega}} = \\frac{3}{6} = \\frac{1}{2}\" />\n",
    "\n",
    "- Evento <img src=\"https://i.upmath.me/svg/B%20%3D%20%5C%7B3%2C%204%2C%205%2C%206%5C%7D\" alt=\"B = \\{3, 4, 5, 6\\}\" />, ou seja a probabilidade do evento B será <img src=\"https://i.upmath.me/svg/P(B)%20%3D%20%5Cfrac%7BN_B%7D%7BN_%7B%5Comega%7D%7D%20%3D%20%5Cfrac%7B4%7D%7B6%7D%20%3D%20%5Cfrac%7B2%7D%7B3%7D\" alt=\"P(B) = \\frac{N_B}{N_{\\omega}} = \\frac{4}{6} = \\frac{2}{3}\" />\n",
    "\n",
    "Agora define-se a probabilidade do evento <img src=\"https://i.upmath.me/svg/A%20%5Ccap%20B\" alt=\"A \\cap B\" />, que seria ao lançar um dado sair um número ímpar e que este seja um número maior do que 2:\n",
    "\n",
    "- Evento <img src=\"https://i.upmath.me/svg/A%20%5Ccap%20B%20%3D%20%5C%7B3%2C%205%5C%7D\" alt=\"A \\cap B = \\{3, 5\\}\" />, ou seja a probabilidade do evento <img src=\"https://i.upmath.me/svg/A%20%5Ccap%20B\" alt=\"A \\cap B\" /> será <img src=\"https://i.upmath.me/svg/P(A%20%5Ccap%20B)%20%3D%20%5Cfrac%7BN_%7BA%20%E2%88%A9%20B%7D%7D%7BN_%7B%5Comega%7D%7D%20%3D%20%5Cfrac%7B2%7D%7B6%7D%20%3D%20%5Cfrac%7B1%7D%7B3%7D\" alt=\"P(A \\cap B) = \\frac{N_{A ∩ B}}{N_{\\omega}} = \\frac{2}{6} = \\frac{1}{3}\" />\n",
    "\n",
    "Por fim, calcula-se a probabilidade condicional <img src=\"https://i.upmath.me/svg/P(A%20%7C%20B)\" alt=\"P(A | B)\" />, ou seja __a probabilidade do evento <img src=\"https://i.upmath.me/svg/A\" alt=\"A\" /> ocorrer, dado que o evento <img src=\"https://i.upmath.me/svg/B\" alt=\"B\" /> já ocorreu__:\n",
    "\n",
    "<img align=\"center\" src=\"https://i.upmath.me/svg/P(A%20%7C%20B)%20%3D%20%5Cfrac%7BP(A%20%E2%88%A9%20B)%7D%7BP(B)%7D%20%3D%20%5Cfrac%7B%5Cfrac%7B1%7D%7B3%7D%7D%7B%5Cfrac%7B2%7D%7B3%7D%7D%20%3D%20%5Cfrac%7B1%7D%7B2%7D\" alt=\"P(A | B) = \\frac{P(A ∩ B)}{P(B)} = \\frac{\\frac{1}{3}}{\\frac{2}{3}} = \\frac{1}{2}\" />\n",
    "\n",
    "Vale notar que a probabilidade condicional é frequentemente utilizada para calcular a probabilidade da ocorrência simultânea de dois eventos, <img src=\"https://i.upmath.me/svg/P(A%20%E2%88%A9%20B)\" alt=\"P(A ∩ B)\" />:\n",
    "\n",
    "\n",
    "<img align=\"center\" src=\"https://i.upmath.me/svg/P(A%20%5Ccap%20B)%20%3D%20%20P(A%20%7C%20B)P(B)\" alt=\"P(A \\cap B) =  P(A | B)P(B)\" />\n",
    "\n",
    "Uma outra forma de obter esse resultado é notando que <img src=\"https://i.upmath.me/svg/P(A%20%5Ccap%20B)%20%3D%20P(B%20%5Ccap%20A)\" alt=\"P(A \\cap B) = P(B \\cap A)\" />. Assim, também temos:\n",
    "\n",
    "<img align=\"center\" src=\"https://i.upmath.me/svg/%20P(A%20%5Ccap%20B)%20%3D%20%20P(B%20%7C%20A)P(A)\" alt=\" P(A \\cap B) =  P(B | A)P(A)\" />\n",
    "\n",
    "<br><br>"
   ]
  },
  {
   "cell_type": "markdown",
   "id": "0aab7ccb",
   "metadata": {},
   "source": [
    "### Exemplo\n",
    "\n",
    "Suponha que temos uma urna com bolas vermelhas e azuis. Existem 30 bolas vermelhas e 20 bolas azuis na urna. Se você retirar uma bola aleatoriamente e, em seguida, sem reposição, retirar outra bola, qual é a probabilidade de que ambas as bolas retiradas sejam vermelhas?"
   ]
  },
  {
   "cell_type": "code",
   "execution_count": null,
   "id": "436617b0",
   "metadata": {},
   "outputs": [],
   "source": []
  },
  {
   "cell_type": "code",
   "execution_count": null,
   "id": "15d335a9",
   "metadata": {},
   "outputs": [],
   "source": []
  },
  {
   "cell_type": "markdown",
   "id": "7ce47996",
   "metadata": {},
   "source": [
    "### Exemplo prático"
   ]
  },
  {
   "cell_type": "markdown",
   "id": "6a7b0dee",
   "metadata": {},
   "source": [
    "Um cientista de dados trabalha para um banco como analista financeiro quer entender melhor o comportamento dos seus clientes em relação ao uso de cartões de crédito. Ele tem dois eventos:\n",
    "\n",
    "1. **Evento A:** O cliente possui um cartão de crédito do banco.\n",
    "2. **Evento B:** O cliente tem um histórico de pagamentos pontuais (ou seja, paga suas faturas em dia).\n",
    "\n",
    "Considere a probabilidade de um cliente ter um histórico de pagamentos pontuais, dado que ele possui um cartão de crédito do banco. Isso é a probabilidade condicional de B dado A, denotada por $ P(B|A) $.\n",
    "\n",
    "A fórmula para calcular a probabilidade condicional é:\n",
    "\n",
    "$ P(B|A) = \\frac{P(A \\cap B)}{P(A)} $\n",
    "\n",
    "Onde:\n",
    "- $ P(B|A) $ é a probabilidade de ocorrer o evento B (pagamentos pontuais) dado que o evento A (possuir cartão de crédito) já ocorreu.\n",
    "- $ P(A \\cap B) $ é a probabilidade de ocorrerem os eventos A e B ao mesmo tempo (cliente possui cartão de crédito e tem histórico de pagamentos pontuais).\n",
    "- $ P(A) $ é a probabilidade de ocorrer o evento A (cliente possui cartão de crédito).\n",
    "\n",
    "Suponha que, com base em dados históricos, você saiba que:\n",
    "- 40% dos clientes do banco possuem um cartão de crédito (ou seja, $ P(A) = 0.40 $).\n",
    "- 25% dos clientes do banco possuem um cartão de crédito e têm um histórico de pagamentos pontuais (ou seja, $ P(A \\cap B) = 0.25 $).\n",
    "\n",
    "Então, a probabilidade de um cliente ter um histórico de pagamentos pontuais, dado que ele possui um cartão de crédito do banco, é:\n",
    "\n",
    "$ P(B|A) = \\frac{0.25}{0.40} = 0.625 $\n",
    "\n",
    "Isso significa que, dentre os clientes que possuem um cartão de crédito do banco, há uma probabilidade de 62.5% deles terem um histórico de pagamentos pontuais. Essa informação pode ser útil para o banco avaliar o risco de crédito e para planejar estratégias de fidelização de clientes."
   ]
  },
  {
   "cell_type": "code",
   "execution_count": null,
   "id": "5c70d4e8",
   "metadata": {},
   "outputs": [],
   "source": []
  },
  {
   "cell_type": "markdown",
   "id": "2dae241c",
   "metadata": {},
   "source": [
    "## Eventos Mutuamente exclusivos\n",
    "\n",
    "    Em estatística, eventos mutuamente exclusivos são eventos que não podem ocorrer simultaneamente. Isso significa que, se um evento acontece, o outro não pode ocorrer no mesmo espaço amostral. Em outras palavras, a ocorrência de um evento exclui a possibilidade de o outro evento acontecer ao mesmo tempo.\n",
    "    \n",
    "    Para calcular a união de probabilidade de eventos mutuamente exclusivos, fazemos:\n",
    "    \n",
    "   <center><b>P(A U B)=P(A)+P(B)</b></center>\n",
    "\n",
    "#### Exemplo: \n",
    "    Uma urna contém 30 bolas vermelhas, 20 bolas azuis e 40 bolas brancas. Uma única bola será retirada da urna. Qual é a probabilidade de que a bola retirada seja vermelha ou azul, sendo esses eventos mutuamente exclusivos?"
   ]
  },
  {
   "cell_type": "code",
   "execution_count": null,
   "id": "3ca5e15b",
   "metadata": {},
   "outputs": [],
   "source": []
  },
  {
   "cell_type": "markdown",
   "id": "fa69c9f2",
   "metadata": {},
   "source": [
    "## 7. Eventos Independentes\n",
    "\n",
    "Dados dois eventos aleatórios <img src=\"https://i.upmath.me/svg/A\" alt=\"A\" /> e <img src=\"https://i.upmath.me/svg/B\" alt=\"B\" />, caso esses eventos sejam __independentes__ entre si, pode-se deduzir a seguinte relação sobre a probabilidade condicional:\n",
    "\n",
    "<img align=\"center\" src=\"https://i.upmath.me/svg/%20P(A%20%7C%20B)%20%3D%20P(A)%20\" alt=\" P(A | B) = P(A) \" />\n",
    "\n",
    "Isto é válido pois o evento <img src=\"https://i.upmath.me/svg/A\" alt=\"A\" /> ocorrerá __independente__ do que passar pelo evento <img src=\"https://i.upmath.me/svg/B\" alt=\"B\" />. Aplicando agora esta relação na fórmula da probabilidade condicional, obtém-se o resultado a seguir:\n",
    "    \n",
    "<img align=\"center\" src=\"https://i.upmath.me/svg/%20P(A%20%5Ccap%20B)%20%3D%20P(A)P(B)%20\" alt=\" P(A \\cap B) = P(A)P(B) \" />\n",
    "\n",
    "<br><br>"
   ]
  },
  {
   "cell_type": "markdown",
   "id": "79bdf73e",
   "metadata": {},
   "source": [
    "## Teorema de Bayes\n",
    "\n",
    "O __Teorema de Bayes__ é um resultado importante que pode ser deduzido a partir da probabilidade condicional. Sejam os eventos **\"A\"** e **\"B\"** e a definição da probabilidade condicional:\n",
    "\n",
    "<img align=\"center\" src=\"https://i.upmath.me/svg/%20P(A%20%7C%20B)%20%3D%20%5Cfrac%7BP(A%20%5Ccap%20B)%7D%7BP(B)%7D%20\" alt=\" P(A | B) = \\frac{P(A \\cap B)}{P(B)} \" />\n",
    "\n",
    "Utilizando a definição, se invertermos os eventos, isto é, calculando a probabilidade condicional do evento **\"B\"** dado que ocorreu o **\"A\"**, teremos:\n",
    "\n",
    "<img align=\"center\" src=\"https://i.upmath.me/svg/%20P(B%20%7C%20A)%20%3D%20%5Cfrac%7BP(A%20%5Ccap%20B)%7D%7BP(A)%7D%20\" alt=\" P(B | A) = \\frac{P(A \\cap B)}{P(A)} \" />\n",
    "\n",
    "Em ambas expressões acima temos <img src=\"https://i.upmath.me/svg/P(A%20%5Ccap%20B)\" alt=\"P(A \\cap B)\" />. Igualando as relações consegue-se chegar no seguinte resultado:\n",
    "\n",
    "<img align=\"center\" src=\"https://i.upmath.me/svg/%20P(A%20%7C%20B)P(B)%20%3D%20P(B%20%7C%20A)P(A)%20\" alt=\" P(A | B)P(B) = P(B | A)P(A) \" />\n",
    "\n",
    "A forma mais convencional de ser apresentada a relação do Teorema de Bayes é como observado abaixo:\n",
    "\n",
    "<img align=\"center\" src=\"https://i.upmath.me/svg/%20P(A%20%7C%20B)%20%3D%20%5Cfrac%7BP(B%20%7C%20A)P(A)%7D%7BP(B)%7D%20\" alt=\" P(A | B) = \\frac{P(B | A)P(A)}{P(B)} \" />\n",
    "<br>\n",
    "<hr>"
   ]
  },
  {
   "cell_type": "markdown",
   "id": "7fd6b127",
   "metadata": {},
   "source": [
    "Um exemplo de aplicação deste teorema seria na avaliação de um determinado teste **\"B\"** em identificar uma doença **\"A\"**.\n",
    "\n",
    "<img src='https://s3-sa-east-1.amazonaws.com/lcpi/834559ec-4261-44be-9109-610e0317cff4.gif' width=400>\n",
    "\n",
    "    Suponha que temos uma população de 10.000 pessoas e uma doença rara que afeta apenas 1% da população. Agora, imagine que temos um teste médico para essa doença, mas o teste não é perfeito. Ele tem as seguintes características:\n",
    "\n",
    "\n",
    "Suponha que temos 1.000 pessoas submetendo-se ao teste para a doença:\n",
    "\n",
    "\n",
    "|                | Pessoa Doente | Pessoa Não Doente |\n",
    "|----------------|---------------|-------------------|\n",
    "| Teste positivo | 90 %          | 5 %               |\n",
    "| Teste Negativo | 10 %          | 95 %              |\n",
    "\n",
    "A tabela acima é chamada de **matriz de confusão**, indicando fora da diagonal os caos confusos (errados), e na diagonal os casos corretos.\n",
    "\n",
    "<img src=\"https://miro.medium.com/max/2102/1*fxiTNIgOyvAombPJx5KGeA.png\" width=300>\n",
    "\n",
    "Nesse exemplo:\n",
    "\n",
    " - Sensibilidade (taxa de verdadeiros positivos): 90% (TP / (TP + FN)) \n",
    " - Especificidade (taxa de verdadeiros negativos): 95% (TN / (TN + FP))\n",
    "\n",
    "<br>\n",
    "\n",
    " - __Sensibilidade do teste__: 95% (a probabilidade de o teste ser positivo quando uma pessoa tem a doença).\n",
    " - __Especificidade do teste__: 90% (a probabilidade de o teste ser negativo quando uma pessoa não tem a doença).\n",
    "\n",
    "\n",
    "<hr>"
   ]
  },
  {
   "cell_type": "markdown",
   "id": "d074de2f",
   "metadata": {},
   "source": [
    "Agora, alguém faz o teste e o resultado é positivo. Queremos usar o Teorema de Bayes para calcular a probabilidade de essa pessoa realmente ter a doença.\n",
    "\n",
    " - **Passo 1**: Entender as probabilidades iniciais\n",
    "\n",
    "    Probabilidade de ter a doença (antes do teste): 1% = 0,01.\n",
    "    Probabilidade de não ter a doença (antes do teste): 99% = 0,99.\n",
    "\n",
    " - **Passo 2**: Calcular as probabilidades após o teste\n",
    "\n",
    "Agora, vamos usar o Teorema de Bayes para calcular a probabilidade de ter a doença após o resultado positivo do teste.\n",
    "\n",
    "Usaremos a seguinte fórmula do Teorema de Bayes:\n",
    "\n",
    "<img src=\"https://s3-sa-east-1.amazonaws.com/lcpi/08882d42-e213-4ae1-b09a-002be50f2b9b.png\" width=\"350\">"
   ]
  },
  {
   "cell_type": "markdown",
   "id": "9cbdac8a",
   "metadata": {},
   "source": [
    "Onde:\n",
    "\n",
    "- **P(A∣B)** é a probabilidade de ter a doença após um resultado positivo no teste.\n",
    "- **P(B∣A)** é a probabilidade de um resultado positivo no teste, dado que a pessoa tem a doença (sensibilidade do teste = 95%).\n",
    "- **P(A)** é a probabilidade de ter a doença antes do teste (1%).\n",
    "- **P(B)** é a probabilidade de um resultado positivo no teste, que pode ser calculada usando o teorema da probabilidade total.\n",
    "\n",
    "\n",
    "P(B) pode ser calculada como a soma das probabilidades de obter um resultado positivo no teste quando a pessoa tem a doença e quando a pessoa não tem a doença:"
   ]
  },
  {
   "cell_type": "markdown",
   "id": "ef98abe5",
   "metadata": {},
   "source": [
    "Assim, temos:\n",
    "\n",
    "\n",
    "|                | Pessoa Doente                            | Pessoa Não Doente                               | Soma\n",
    "|----------------|------------------------------------------|-------------------------------------------------|-------|\n",
    "| **Teste positivo** | Prob Doente e teste pos: 1% × 90% = 0,9% | Prob Não Doente e teste pos: 99% × 5% = 4,95%   | 5,85%\n",
    "| **Teste Negativo** | Prob Doente e teste neg: 1% × 10% = 0,1% | Prob Não Doente e teste neg: 99% × 95% = 94,05% | 94,15%\n",
    "| **Soma** | 1% | 99% | 100%\n"
   ]
  },
  {
   "cell_type": "markdown",
   "id": "e03c0859",
   "metadata": {},
   "source": [
    "$ P(B) = P(B∣A)⋅P(A) + P(B∣¬A)⋅P(¬A) $"
   ]
  },
  {
   "cell_type": "code",
   "execution_count": null,
   "id": "10a75fd0",
   "metadata": {},
   "outputs": [],
   "source": []
  },
  {
   "cell_type": "code",
   "execution_count": null,
   "id": "102c07f9",
   "metadata": {},
   "outputs": [],
   "source": []
  },
  {
   "cell_type": "markdown",
   "id": "c88ce66d",
   "metadata": {},
   "source": [
    "Portanto, a probabilidade de uma pessoa realmente ter a doença após um resultado positivo no teste é aproximadamente 6,38%. Isso mostra que, mesmo com um resultado positivo, há uma probabilidade significativa de que a pessoa não tenha a doença devido à baixa especificidade do teste."
   ]
  },
  {
   "cell_type": "code",
   "execution_count": null,
   "id": "8b1b1c74",
   "metadata": {},
   "outputs": [],
   "source": []
  },
  {
   "cell_type": "code",
   "execution_count": null,
   "id": "ee8a04ad",
   "metadata": {},
   "outputs": [],
   "source": []
  },
  {
   "cell_type": "markdown",
   "id": "01c980fd",
   "metadata": {},
   "source": [
    "### **Materiais Complementares**\n",
    "\n",
    "Artigo sobre [Teorema de Bayes e Probabilidade](https://medium.com/data-hackers/teorema-de-bayes-probabilidade-d5ead2df1379) publicado pelo Lauro de Oliveira;\n",
    "\n",
    "<br><br>\n",
    "\n",
    "### **Referências**\n",
    "\n",
    "Pedro A. Morettin, Wilton O. Bussab, Estatística Básica, 8ª edição\n",
    "\n",
    "Peter Bruce, Andrew Bruce & Peter Gedeck, Practical Statistics for Data Scientists, 50+ Essential Concepts Using R and Python, 2ª edition\n",
    "\n",
    "Ron Larson & Betsy Farber, Estatística Aplicada, 6ª edição.\n",
    "\n",
    "<br><br> "
   ]
  },
  {
   "cell_type": "markdown",
   "id": "4ce143f9",
   "metadata": {},
   "source": [
    "### Desafio"
   ]
  },
  {
   "cell_type": "markdown",
   "id": "db61fc8b",
   "metadata": {},
   "source": [
    "Em uma fábrica de carros, 1% dos carros produzidos apresentam um defeito específico no motor. Existe um teste para detectar esse defeito, mas o teste não é perfeito. A sensibilidade do teste (probabilidade de teste positivo dado que o carro tem o defeito) é de 95%, e a especificidade do teste (probabilidade de teste negativo dado que o carro não tem o defeito) é de 90%. Se um carro aleatório é submetido ao teste e o resultado é positivo, qual é a probabilidade de que o carro realmente tenha o defeito no motor?"
   ]
  },
  {
   "cell_type": "code",
   "execution_count": null,
   "id": "cb9c5dca",
   "metadata": {},
   "outputs": [],
   "source": []
  }
 ],
 "metadata": {
  "kernelspec": {
   "display_name": "Python 3 (ipykernel)",
   "language": "python",
   "name": "python3"
  },
  "language_info": {
   "codemirror_mode": {
    "name": "ipython",
    "version": 3
   },
   "file_extension": ".py",
   "mimetype": "text/x-python",
   "name": "python",
   "nbconvert_exporter": "python",
   "pygments_lexer": "ipython3",
   "version": "3.10.11"
  }
 },
 "nbformat": 4,
 "nbformat_minor": 5
}
